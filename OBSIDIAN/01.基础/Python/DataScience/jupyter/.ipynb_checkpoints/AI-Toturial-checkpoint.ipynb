{
 "cells": [
  {
   "cell_type": "markdown",
   "id": "00f3aeb8",
   "metadata": {},
   "source": [
    "## 遗传算法求解一元函数区间内最大值"
   ]
  },
  {
   "cell_type": "code",
   "execution_count": 6,
   "id": "86c0dc19",
   "metadata": {},
   "outputs": [],
   "source": [
    "# 导包\n",
    "\n",
    "#jupyter matplotlib内置绘图的魔术命令\n",
    "%matplotlib inline\n",
    "#matplotlib绘图、3D相关包\n",
    "from matplotlib import pyplot as plt\n",
    "import matplotlib\n",
    "from mpl_toolkits.mplot3d import Axes3D\n",
    "#用于动态显示图像 \n",
    "from IPython import display\n",
    "\n",
    "#运算、操作处理相关包\n",
    "import numpy as np\n",
    "import pandas as pd"
   ]
  },
  {
   "cell_type": "code",
   "execution_count": 23,
   "id": "add20a7a",
   "metadata": {},
   "outputs": [],
   "source": [
    "class GA():\n",
    "\n",
    "    # input:\n",
    "    #     nums: m * n  n is nums_of x, y, z, ...,and m is population's quantity\n",
    "    #     bound:n * 2  [(min, nax), (min, max), (min, max),...]\n",
    "    #     DNA_SIZE is binary bit size, None is auto\n",
    "    def __init__(self, nums, bound, func, DNA_SIZE=None, cross_rate=0.8, mutation=0.003):\n",
    "        nums = np.array(nums)\n",
    "        bound = np.array(bound)\n",
    "        self.bound = bound\n",
    "        if nums.shape[1] != bound.shape[0]:\n",
    "            raise Exception(f'范围的数量与变量的数量不一致, 您有{nums.shape[1]}个变量，却有{bound.shape[0]}个范围')\n",
    "\n",
    "        for var in nums:\n",
    "            for index, var_curr in enumerate(var):\n",
    "                if var_curr < bound[index][0] or var_curr > bound[index][1]:\n",
    "                    raise Exception(f'{var_curr}不在取值范围内')\n",
    "\n",
    "        for min_bound, max_bound in bound:\n",
    "            if max_bound < min_bound:\n",
    "                raise Exception(f'抱歉，({min_bound}, {max_bound})不是合格的取值范围')\n",
    "\n",
    "        #所有变量的最小值和最大值\n",
    "        #var_len为所有变量的取值范围大小\n",
    "        #bit为每个变量按整数编码最小的二进制位数\n",
    "        min_nums, max_nums = np.array(list(zip(*bound)))\n",
    "        self.var_len = var_len = max_nums-min_nums\n",
    "        bits = np.ceil(np.log2(var_len+1))\n",
    "\n",
    "        if DNA_SIZE == None:\n",
    "            DNA_SIZE = int(np.max(bits))\n",
    "        self.DNA_SIZE = DNA_SIZE\n",
    "\n",
    "        #POP_SIZE为进化的种群数\n",
    "        self.POP_SIZE = len(nums)\n",
    "        POP = np.zeros((*nums.shape, DNA_SIZE))\n",
    "        for i in range(nums.shape[0]):\n",
    "            for j in range(nums.shape[1]):\n",
    "        #编码方式：\n",
    "                num = int(round((nums[i,j] - bound[j][0]) * ((2**DNA_SIZE) / var_len[j])))\n",
    "        #用python自带的格式化转化为前面空0的二进制字符串，然后拆分成列表\n",
    "                POP[i,j] = [int(k) for k in ('{0:0'+str(DNA_SIZE)+'b}').format(num)]\n",
    "        self.POP = POP\n",
    "        #用于后面重置（reset）\n",
    "        self.copy_POP = POP.copy()\n",
    "        self.cross_rate = cross_rate\n",
    "        self.mutation = mutation\n",
    "        self.func = func\n",
    "\n",
    "    #save args对象保留参数：\n",
    "    #        bound                取值范围\n",
    "    #        var_len              取值范围大小\n",
    "    #        POP_SIZE             种群大小\n",
    "    #        POP                  编码后的种群[[[1,0,1,...],[1,1,0,...],...]]\n",
    "    #                             一维元素是各个种群，二维元素是各个DNA[1,0,1,0]，三维元素是碱基对1/0\n",
    "    #        copy_POP             复制的种群，用于重置\n",
    "    #        cross_rate           染色体交换概率\n",
    "    #        mutation             基因突变概率\n",
    "    #        func                 适应度函数\n",
    "    #将编码后的DNA翻译回来（解码）\n",
    "    \n",
    "    \n",
    "    def translateDNA(self):\n",
    "        W_vector = np.array([2**i for i in range(self.DNA_SIZE)]).reshape((self.DNA_SIZE, 1))[::-1]\n",
    "        binary_vector = self.POP.dot(W_vector).reshape(self.POP.shape[0:2])\n",
    "        for i in range(binary_vector.shape[0]):\n",
    "            for j in range(binary_vector.shape[1]):\n",
    "                binary_vector[i, j] /= ((2**self.DNA_SIZE)/self.var_len[j])\n",
    "                binary_vector[i, j] += self.bound[j][0]\n",
    "        return binary_vector\n",
    "\n",
    "\n",
    "    def get_fitness(self, non_negative=False):\n",
    "        result = self.func(*np.array(list(zip(*self.translateDNA()))))\n",
    "        if non_negative:\n",
    "            min_fit = np.min(result, axis=0)\n",
    "#             result -= min_fit \n",
    "            result = result - min_fit +1e-3\n",
    "        return result\n",
    "    \n",
    "#自然选择\n",
    "    def select(self):\n",
    "        fitness = self.get_fitness(non_negative=True)\n",
    "        self.POP = self.POP[np.random.choice(np.arange(self.POP.shape[0]), size=self.POP.shape[0], replace=True, p=fitness/np.sum(fitness))]\n",
    "\n",
    "#染色体交叉\n",
    "    def crossover(self):\n",
    "        for people in self.POP:\n",
    "            if np.random.rand() < self.cross_rate:\n",
    "                i_ = np.random.randint(0, self.POP.shape[0], size=1)\n",
    "                cross_points = np.random.randint(0, 2, size=(len(self.var_len) ,self.DNA_SIZE)).astype(np.bool) \n",
    "                people[cross_points] = self.POP[i_, cross_points]\n",
    "\n",
    "#基因变异\n",
    "    def mutate(self):\n",
    "        for people in self.POP:\n",
    "            for var in people:\n",
    "                for point in range(self.DNA_SIZE):\n",
    "                    if np.random.rand() < self.mutation:\n",
    "                        var[point] = 1 if var[point] == 0 else 1\n",
    "    \n",
    "#进化\n",
    "    def evolution(self):\n",
    "        self.select()\n",
    "        self.crossover()\n",
    "        self.mutate()\n",
    "        \n",
    "        \n",
    "#重置\n",
    "    def reset(self):\n",
    "        self.POP = self.copy_POP.copy()\n",
    "    \n",
    "#打印当前状态日志\n",
    "    def log(self):\n",
    "        return pd.DataFrame(np.hstack((self.translateDNA(), self.get_fitness().reshape((len(self.POP),1)))), \n",
    "                            columns=[f'x{i}' for i in range(len(self.var_len))]+['F'])\n",
    "#一维变量作图\n",
    "    def plot_in_jupyter_1d(self, iter_time=200):\n",
    "        for _ in range(iter_time):\n",
    "            if _ == 199: # 只画最后一轮的图像\n",
    "                x = np.linspace(*self.bound[0], self.var_len[0]*50)\n",
    "                plt.plot(x, self.func(x))\n",
    "                x = self.translateDNA().reshape(self.POP_SIZE)\n",
    "                plt.scatter(x, self.func(x), s=200, lw=0, c='red', alpha=0.5)\n",
    "                fig1=plt.figure()\n",
    "                ax=Axes(fig1)\n",
    "                fig1.add_axes(ax)\n",
    "\n",
    "            self.evolution()"
   ]
  },
  {
   "cell_type": "code",
   "execution_count": 24,
   "id": "1411344c",
   "metadata": {},
   "outputs": [
    {
     "name": "stderr",
     "output_type": "stream",
     "text": [
      "<ipython-input-23-c15fa94377b2>:91: DeprecationWarning: `np.bool` is a deprecated alias for the builtin `bool`. To silence this warning, use `bool` by itself. Doing this will not modify any behavior and is safe. If you specifically wanted the numpy scalar type, use `np.bool_` here.\n",
      "Deprecated in NumPy 1.20; for more details and guidance: https://numpy.org/devdocs/release/1.20.0-notes.html#deprecations\n",
      "  cross_points = np.random.randint(0, 2, size=(len(self.var_len) ,self.DNA_SIZE)).astype(np.bool)\n"
     ]
    },
    {
     "ename": "NameError",
     "evalue": "name 'Axes' is not defined",
     "output_type": "error",
     "traceback": [
      "\u001b[1;31m---------------------------------------------------------------------------\u001b[0m",
      "\u001b[1;31mNameError\u001b[0m                                 Traceback (most recent call last)",
      "\u001b[1;32m<ipython-input-24-0b7b2448693f>\u001b[0m in \u001b[0;36m<module>\u001b[1;34m\u001b[0m\n\u001b[0;32m      1\u001b[0m \u001b[0mfunc\u001b[0m \u001b[1;33m=\u001b[0m \u001b[1;32mlambda\u001b[0m \u001b[0mx\u001b[0m\u001b[1;33m:\u001b[0m\u001b[1;36m2\u001b[0m\u001b[1;33m*\u001b[0m\u001b[0mx\u001b[0m\u001b[1;33m+\u001b[0m\u001b[1;36m7\u001b[0m\u001b[1;33m*\u001b[0m\u001b[0mnp\u001b[0m\u001b[1;33m.\u001b[0m\u001b[0msin\u001b[0m\u001b[1;33m(\u001b[0m\u001b[1;36m10\u001b[0m\u001b[1;33m*\u001b[0m\u001b[0mx\u001b[0m\u001b[1;33m)\u001b[0m \u001b[1;33m+\u001b[0m \u001b[0mnp\u001b[0m\u001b[1;33m.\u001b[0m\u001b[0mcos\u001b[0m\u001b[1;33m(\u001b[0m\u001b[1;36m4\u001b[0m\u001b[1;33m*\u001b[0m\u001b[0mx\u001b[0m\u001b[1;33m)\u001b[0m\u001b[1;33m\u001b[0m\u001b[1;33m\u001b[0m\u001b[0m\n\u001b[0;32m      2\u001b[0m \u001b[0mga\u001b[0m \u001b[1;33m=\u001b[0m \u001b[0mGA\u001b[0m\u001b[1;33m(\u001b[0m\u001b[1;33m[\u001b[0m\u001b[1;33m[\u001b[0m\u001b[0mnp\u001b[0m\u001b[1;33m.\u001b[0m\u001b[0mrandom\u001b[0m\u001b[1;33m.\u001b[0m\u001b[0mrand\u001b[0m\u001b[1;33m(\u001b[0m\u001b[1;33m)\u001b[0m\u001b[1;33m*\u001b[0m\u001b[1;36m5\u001b[0m\u001b[1;33m]\u001b[0m \u001b[1;32mfor\u001b[0m \u001b[0m_\u001b[0m \u001b[1;32min\u001b[0m \u001b[0mrange\u001b[0m\u001b[1;33m(\u001b[0m\u001b[1;36m100\u001b[0m\u001b[1;33m)\u001b[0m\u001b[1;33m]\u001b[0m\u001b[1;33m,\u001b[0m \u001b[1;33m[\u001b[0m\u001b[1;33m(\u001b[0m\u001b[1;36m0\u001b[0m\u001b[1;33m,\u001b[0m\u001b[1;36m5\u001b[0m\u001b[1;33m)\u001b[0m\u001b[1;33m]\u001b[0m\u001b[1;33m,\u001b[0m \u001b[0mDNA_SIZE\u001b[0m\u001b[1;33m=\u001b[0m\u001b[1;36m10\u001b[0m\u001b[1;33m,\u001b[0m \u001b[0mfunc\u001b[0m\u001b[1;33m=\u001b[0m\u001b[0mfunc\u001b[0m\u001b[1;33m)\u001b[0m\u001b[1;33m\u001b[0m\u001b[1;33m\u001b[0m\u001b[0m\n\u001b[1;32m----> 3\u001b[1;33m \u001b[0mga\u001b[0m\u001b[1;33m.\u001b[0m\u001b[0mplot_in_jupyter_1d\u001b[0m\u001b[1;33m(\u001b[0m\u001b[1;33m)\u001b[0m\u001b[1;33m\u001b[0m\u001b[1;33m\u001b[0m\u001b[0m\n\u001b[0m",
      "\u001b[1;32m<ipython-input-23-c15fa94377b2>\u001b[0m in \u001b[0;36mplot_in_jupyter_1d\u001b[1;34m(self, iter_time)\u001b[0m\n\u001b[0;32m    124\u001b[0m                 \u001b[0mx\u001b[0m \u001b[1;33m=\u001b[0m \u001b[0mself\u001b[0m\u001b[1;33m.\u001b[0m\u001b[0mtranslateDNA\u001b[0m\u001b[1;33m(\u001b[0m\u001b[1;33m)\u001b[0m\u001b[1;33m.\u001b[0m\u001b[0mreshape\u001b[0m\u001b[1;33m(\u001b[0m\u001b[0mself\u001b[0m\u001b[1;33m.\u001b[0m\u001b[0mPOP_SIZE\u001b[0m\u001b[1;33m)\u001b[0m\u001b[1;33m\u001b[0m\u001b[1;33m\u001b[0m\u001b[0m\n\u001b[0;32m    125\u001b[0m                 \u001b[0mplt\u001b[0m\u001b[1;33m.\u001b[0m\u001b[0mscatter\u001b[0m\u001b[1;33m(\u001b[0m\u001b[0mx\u001b[0m\u001b[1;33m,\u001b[0m \u001b[0mself\u001b[0m\u001b[1;33m.\u001b[0m\u001b[0mfunc\u001b[0m\u001b[1;33m(\u001b[0m\u001b[0mx\u001b[0m\u001b[1;33m)\u001b[0m\u001b[1;33m,\u001b[0m \u001b[0ms\u001b[0m\u001b[1;33m=\u001b[0m\u001b[1;36m200\u001b[0m\u001b[1;33m,\u001b[0m \u001b[0mlw\u001b[0m\u001b[1;33m=\u001b[0m\u001b[1;36m0\u001b[0m\u001b[1;33m,\u001b[0m \u001b[0mc\u001b[0m\u001b[1;33m=\u001b[0m\u001b[1;34m'red'\u001b[0m\u001b[1;33m,\u001b[0m \u001b[0malpha\u001b[0m\u001b[1;33m=\u001b[0m\u001b[1;36m0.5\u001b[0m\u001b[1;33m)\u001b[0m\u001b[1;33m\u001b[0m\u001b[1;33m\u001b[0m\u001b[0m\n\u001b[1;32m--> 126\u001b[1;33m                 \u001b[0max\u001b[0m\u001b[1;33m=\u001b[0m\u001b[0mAxes\u001b[0m\u001b[1;33m(\u001b[0m\u001b[0mfig1\u001b[0m\u001b[1;33m)\u001b[0m\u001b[1;33m\u001b[0m\u001b[1;33m\u001b[0m\u001b[0m\n\u001b[0m\u001b[0;32m    127\u001b[0m                 \u001b[0mfig1\u001b[0m\u001b[1;33m.\u001b[0m\u001b[0madd_axes\u001b[0m\u001b[1;33m(\u001b[0m\u001b[0max\u001b[0m\u001b[1;33m)\u001b[0m\u001b[1;33m\u001b[0m\u001b[1;33m\u001b[0m\u001b[0m\n\u001b[0;32m    128\u001b[0m \u001b[1;33m\u001b[0m\u001b[0m\n",
      "\u001b[1;31mNameError\u001b[0m: name 'Axes' is not defined"
     ]
    },
    {
     "data": {
      "image/png": "[encoded data removed]",
      "text/plain": [
       "<Figure size 432x288 with 1 Axes>"
      ]
     },
     "metadata": {
      "needs_background": "light"
     },
     "output_type": "display_data"
    }
   ],
   "source": [
    "func = lambda x:2*x+7*np.sin(10*x) + np.cos(4*x)\n",
    "ga = GA([[np.random.rand()*5] for _ in range(100)], [(0,5)], DNA_SIZE=10, func=func)\n",
    "ga.plot_in_jupyter_1d()"
   ]
  },
  {
   "cell_type": "code",
   "execution_count": null,
   "id": "572bd5b9",
   "metadata": {},
   "outputs": [],
   "source": []
  }
 ],
 "metadata": {
  "kernelspec": {
   "display_name": "Python 3",
   "language": "python",
   "name": "python3"
  },
  "language_info": {
   "codemirror_mode": {
    "name": "ipython",
    "version": 3
   },
   "file_extension": ".py",
   "mimetype": "text/x-python",
   "name": "python",
   "nbconvert_exporter": "python",
   "pygments_lexer": "ipython3",
   "version": "3.8.8"
  }
 },
 "nbformat": 4,
 "nbformat_minor": 5
}
