{
 "cells": [
  {
   "cell_type": "markdown",
   "id": "94fc4499",
   "metadata": {},
   "source": [
    "## 简介与安装\n",
    "\n",
    "什么是机器学习\n",
    "\n",
    "![image-20211108181813075](Start-Up.imgs/image-20211108181813075.png)\n",
    "\n",
    "pytorch增长速度比较快，应用于学术界的比较多。\n",
    "\n",
    "tensorflow每次更新的时候会变化很多东西，难以适应。\n",
    "\n",
    "keras比较简单，已经整合到了tensorflow中，caffe2整合到了pytorch中。\n",
    "\n",
    "**什么是PyTorch？**\n",
    "\n",
    "- PyTorch是一个开源的Python机器学习库，基于Torch，用于自然语言处理，计算机视觉等应用程序。\n",
    "- 2017年1月，由Facebook人工智能研究院（FAIR）基于Torch推出了PyTorch。\n",
    "\n",
    "**PyTorch的优点是什么？**\n",
    "\n",
    "（1）PyTorch是相当简洁且高效快速的框架，入门简单；\n",
    "\n",
    "（2）动态计算图：PyTorch为我们提供了一个框架，以便可以在运行时构建计算图，甚至在运行时更改它们。\n",
    "\n",
    "（3）多gpu支持，自定义数据加载器和简化的预处理器。\n",
    "\n"
   ]
  },
  {
   "cell_type": "markdown",
   "id": "426d49bd",
   "metadata": {},
   "source": [
    "## 认识Tensor\n",
    "\n",
    "https://pytorch.org/tutorials/beginner/basics/tensorqs_tutorial.html\n",
    "\n",
    "**什么是tensor？**\n",
    "\n",
    "scalar（标量）：一个数值\n",
    "\n",
    "vector（向量）：一维数组\n",
    "\n",
    "matrix（矩阵）：二维数组[[2，3]，[4，5]]\n",
    "\n",
    "tensor（张量）：大于二维的数组，即多维数\n"
   ]
  },
  {
   "cell_type": "code",
   "execution_count": 1,
   "id": "242e9369",
   "metadata": {
    "ExecuteTime": {
     "end_time": "2021-11-08T11:08:56.273366Z",
     "start_time": "2021-11-08T11:08:55.917923Z"
    }
   },
   "outputs": [],
   "source": [
    "import torch"
   ]
  },
  {
   "cell_type": "code",
   "execution_count": 2,
   "id": "0e3fd34b",
   "metadata": {
    "ExecuteTime": {
     "end_time": "2021-11-08T11:08:57.366812Z",
     "start_time": "2021-11-08T11:08:57.351753Z"
    }
   },
   "outputs": [],
   "source": [
    "x = [2, 9, 5, 4, 2, 1]"
   ]
  },
  {
   "cell_type": "code",
   "execution_count": 3,
   "id": "ab53c05e",
   "metadata": {
    "ExecuteTime": {
     "end_time": "2021-11-08T11:08:58.413253Z",
     "start_time": "2021-11-08T11:08:58.396721Z"
    }
   },
   "outputs": [
    {
     "data": {
      "text/plain": [
       "False"
      ]
     },
     "execution_count": 3,
     "metadata": {},
     "output_type": "execute_result"
    }
   ],
   "source": [
    "#1. 检查x是否为tensor对象\n",
    "\n",
    "torch.is_tensor(x)"
   ]
  },
  {
   "cell_type": "code",
   "execution_count": 4,
   "id": "24904dad",
   "metadata": {
    "ExecuteTime": {
     "end_time": "2021-11-08T11:08:59.527025Z",
     "start_time": "2021-11-08T11:08:59.462585Z"
    }
   },
   "outputs": [
    {
     "data": {
      "text/plain": [
       "tensor([[0.1031, 0.2955]])"
      ]
     },
     "execution_count": 4,
     "metadata": {},
     "output_type": "execute_result"
    }
   ],
   "source": [
    "y = torch.rand(1, 2)\n",
    "y"
   ]
  },
  {
   "cell_type": "code",
   "execution_count": 5,
   "id": "eabdb967",
   "metadata": {
    "ExecuteTime": {
     "end_time": "2021-11-08T11:09:12.446073Z",
     "start_time": "2021-11-08T11:09:12.432138Z"
    }
   },
   "outputs": [
    {
     "data": {
      "text/plain": [
       "True"
      ]
     },
     "execution_count": 5,
     "metadata": {},
     "output_type": "execute_result"
    }
   ],
   "source": [
    "torch.is_tensor(y)"
   ]
  },
  {
   "cell_type": "code",
   "execution_count": 7,
   "id": "20e50056",
   "metadata": {
    "ExecuteTime": {
     "end_time": "2021-11-08T11:09:47.827806Z",
     "start_time": "2021-11-08T11:09:47.807833Z"
    }
   },
   "outputs": [
    {
     "data": {
      "text/plain": [
       "2"
      ]
     },
     "execution_count": 7,
     "metadata": {},
     "output_type": "execute_result"
    }
   ],
   "source": [
    "# 统计tensor中元素的个数\n",
    "\n",
    "torch.numel(y)"
   ]
  },
  {
   "cell_type": "code",
   "execution_count": 9,
   "id": "d3d33f6a",
   "metadata": {
    "ExecuteTime": {
     "end_time": "2021-11-08T11:10:16.244575Z",
     "start_time": "2021-11-08T11:10:16.240555Z"
    }
   },
   "outputs": [],
   "source": [
    "# 2. 创建全0的tensor\n",
    "\n",
    "z = torch.zeros(3, 3)"
   ]
  },
  {
   "cell_type": "code",
   "execution_count": 10,
   "id": "2a8d2d3e",
   "metadata": {
    "ExecuteTime": {
     "end_time": "2021-11-08T11:10:22.765511Z",
     "start_time": "2021-11-08T11:10:22.753843Z"
    }
   },
   "outputs": [
    {
     "data": {
      "text/plain": [
       "9"
      ]
     },
     "execution_count": 10,
     "metadata": {},
     "output_type": "execute_result"
    }
   ],
   "source": [
    "torch.numel(z)"
   ]
  },
  {
   "cell_type": "code",
   "execution_count": 11,
   "id": "2c15be45",
   "metadata": {
    "ExecuteTime": {
     "end_time": "2021-11-08T11:10:59.247686Z",
     "start_time": "2021-11-08T11:10:59.221877Z"
    }
   },
   "outputs": [
    {
     "data": {
      "text/plain": [
       "tensor([[1., 0., 0.],\n",
       "        [0., 1., 0.],\n",
       "        [0., 0., 1.]])"
      ]
     },
     "execution_count": 11,
     "metadata": {},
     "output_type": "execute_result"
    }
   ],
   "source": [
    "# 3. 创建对角线为1的tensor\n",
    "\n",
    "torch.eye(3, 3)"
   ]
  },
  {
   "cell_type": "code",
   "execution_count": 13,
   "id": "f3e69596",
   "metadata": {
    "ExecuteTime": {
     "end_time": "2021-11-08T11:12:25.467928Z",
     "start_time": "2021-11-08T11:12:25.452520Z"
    }
   },
   "outputs": [
    {
     "data": {
      "text/plain": [
       "array([1, 5, 7, 8, 9, 3])"
      ]
     },
     "execution_count": 13,
     "metadata": {},
     "output_type": "execute_result"
    }
   ],
   "source": [
    "# 4将numpy转换为tenosr\n",
    "\n",
    "x = np.array([1, 5, 7, 8, 9, 3])\n",
    "x"
   ]
  },
  {
   "cell_type": "code",
   "execution_count": 14,
   "id": "d5669151",
   "metadata": {
    "ExecuteTime": {
     "end_time": "2021-11-08T11:13:13.699290Z",
     "start_time": "2021-11-08T11:13:13.676700Z"
    }
   },
   "outputs": [
    {
     "data": {
      "text/plain": [
       "tensor([1, 5, 7, 8, 9, 3], dtype=torch.int32)"
      ]
     },
     "execution_count": 14,
     "metadata": {},
     "output_type": "execute_result"
    }
   ],
   "source": [
    "torch.from_numpy(x)"
   ]
  },
  {
   "cell_type": "code",
   "execution_count": 18,
   "id": "8d08293a",
   "metadata": {
    "ExecuteTime": {
     "end_time": "2021-11-08T11:14:01.268386Z",
     "start_time": "2021-11-08T11:14:01.246979Z"
    }
   },
   "outputs": [
    {
     "data": {
      "text/plain": [
       "tensor([ 2.,  4.,  6.,  8., 10.])"
      ]
     },
     "execution_count": 18,
     "metadata": {},
     "output_type": "execute_result"
    }
   ],
   "source": [
    "# 5 切分 linspace\n",
    "\n",
    "torch.linspace(2, 10, steps=5)"
   ]
  },
  {
   "cell_type": "code",
   "execution_count": 19,
   "id": "ff38519b",
   "metadata": {
    "ExecuteTime": {
     "end_time": "2021-11-08T11:14:30.288945Z",
     "start_time": "2021-11-08T11:14:30.271355Z"
    }
   },
   "outputs": [
    {
     "data": {
      "text/plain": [
       "tensor([0.1329, 0.1351, 0.9775, 0.7463, 0.5243, 0.3739, 0.4334, 0.1318, 0.6447,\n",
       "        0.0866])"
      ]
     },
     "execution_count": 19,
     "metadata": {},
     "output_type": "execute_result"
    }
   ],
   "source": [
    "# 6 创建均匀分布\n",
    "\n",
    "torch.rand(10)"
   ]
  },
  {
   "cell_type": "code",
   "execution_count": 20,
   "id": "0bcd1e7a",
   "metadata": {
    "ExecuteTime": {
     "end_time": "2021-11-08T11:14:50.326412Z",
     "start_time": "2021-11-08T11:14:50.302347Z"
    }
   },
   "outputs": [
    {
     "data": {
      "text/plain": [
       "tensor([-0.7202,  0.8905, -0.4364, -1.5051,  0.8515,  0.2801, -0.2492,  0.3015,\n",
       "         0.0855, -1.6630])"
      ]
     },
     "execution_count": 20,
     "metadata": {},
     "output_type": "execute_result"
    }
   ],
   "source": [
    "# 7 创建正态分布\n",
    "\n",
    "torch.randn(10)"
   ]
  },
  {
   "cell_type": "code",
   "execution_count": 21,
   "id": "b654c50d",
   "metadata": {
    "ExecuteTime": {
     "end_time": "2021-11-08T11:15:05.587776Z",
     "start_time": "2021-11-08T11:15:05.560090Z"
    }
   },
   "outputs": [
    {
     "data": {
      "text/plain": [
       "tensor([0, 9, 3, 4, 6, 1, 7, 2, 8, 5])"
      ]
     },
     "execution_count": 21,
     "metadata": {},
     "output_type": "execute_result"
    }
   ],
   "source": [
    "# 8 随机数\n",
    "\n",
    "torch.randperm(10)\n",
    "# 10 表示0-10之间10个随机的数"
   ]
  },
  {
   "cell_type": "code",
   "execution_count": 22,
   "id": "b8cb2ca0",
   "metadata": {
    "ExecuteTime": {
     "end_time": "2021-11-08T11:16:03.973694Z",
     "start_time": "2021-11-08T11:16:03.948595Z"
    }
   },
   "outputs": [
    {
     "data": {
      "text/plain": [
       "tensor([10, 15, 20, 25])"
      ]
     },
     "execution_count": 22,
     "metadata": {},
     "output_type": "execute_result"
    }
   ],
   "source": [
    "# 9 生成一个区间的数\n",
    "\n",
    "torch.arange(10, 30, 5)"
   ]
  },
  {
   "cell_type": "code",
   "execution_count": 24,
   "id": "b77ea030",
   "metadata": {
    "ExecuteTime": {
     "end_time": "2021-11-08T11:16:52.922714Z",
     "start_time": "2021-11-08T11:16:52.905219Z"
    }
   },
   "outputs": [
    {
     "data": {
      "text/plain": [
       "tensor([[74, 12, 15],\n",
       "        [90, 74, 19],\n",
       "        [34, 23, 12]])"
      ]
     },
     "execution_count": 24,
     "metadata": {},
     "output_type": "execute_result"
    }
   ],
   "source": [
    "# 10 获取行或列的最小值或者最大值的索引\n",
    "\n",
    "x = torch.randint(1,99,(3, 3))\n",
    "x"
   ]
  },
  {
   "cell_type": "code",
   "execution_count": 25,
   "id": "d6fb9a61",
   "metadata": {
    "ExecuteTime": {
     "end_time": "2021-11-08T11:17:13.933716Z",
     "start_time": "2021-11-08T11:17:13.910486Z"
    }
   },
   "outputs": [
    {
     "data": {
      "text/plain": [
       "tensor([2, 0, 2])"
      ]
     },
     "execution_count": 25,
     "metadata": {},
     "output_type": "execute_result"
    }
   ],
   "source": [
    "torch.argmin(x, dim=0) # 每一列的最小值的索引"
   ]
  },
  {
   "cell_type": "code",
   "execution_count": 27,
   "id": "866342a5",
   "metadata": {
    "ExecuteTime": {
     "end_time": "2021-11-08T11:18:10.428632Z",
     "start_time": "2021-11-08T11:18:10.418465Z"
    }
   },
   "outputs": [
    {
     "data": {
      "text/plain": [
       "tensor([0, 0, 0])"
      ]
     },
     "execution_count": 27,
     "metadata": {},
     "output_type": "execute_result"
    }
   ],
   "source": [
    "torch.argmax(x, dim=1) # 每一行的最大值的索引"
   ]
  },
  {
   "cell_type": "code",
   "execution_count": 29,
   "id": "6f2cdaaf",
   "metadata": {
    "ExecuteTime": {
     "end_time": "2021-11-08T11:18:37.913331Z",
     "start_time": "2021-11-08T11:18:37.895320Z"
    }
   },
   "outputs": [
    {
     "data": {
      "text/plain": [
       "tensor([[7, 8, 7],\n",
       "        [9, 4, 3]])"
      ]
     },
     "execution_count": 29,
     "metadata": {},
     "output_type": "execute_result"
    }
   ],
   "source": [
    "# 11 连接\n",
    "\n",
    "x = torch.randint(1, 10, (2, 3))\n",
    "x"
   ]
  },
  {
   "cell_type": "code",
   "execution_count": 30,
   "id": "08ef9eac",
   "metadata": {
    "ExecuteTime": {
     "end_time": "2021-11-08T11:19:20.556711Z",
     "start_time": "2021-11-08T11:19:20.544653Z"
    }
   },
   "outputs": [
    {
     "data": {
      "text/plain": [
       "tensor([[7, 8, 7],\n",
       "        [9, 4, 3],\n",
       "        [7, 8, 7],\n",
       "        [9, 4, 3]])"
      ]
     },
     "execution_count": 30,
     "metadata": {},
     "output_type": "execute_result"
    }
   ],
   "source": [
    "torch.cat([x, x]) # 按照竖轴连接"
   ]
  },
  {
   "cell_type": "code",
   "execution_count": 31,
   "id": "5fe0532b",
   "metadata": {
    "ExecuteTime": {
     "end_time": "2021-11-08T11:19:44.472833Z",
     "start_time": "2021-11-08T11:19:44.457606Z"
    }
   },
   "outputs": [
    {
     "data": {
      "text/plain": [
       "tensor([[7, 8, 7, 7, 8, 7],\n",
       "        [9, 4, 3, 9, 4, 3]])"
      ]
     },
     "execution_count": 31,
     "metadata": {},
     "output_type": "execute_result"
    }
   ],
   "source": [
    "torch.cat([x, x], dim=1) # 1是横轴"
   ]
  },
  {
   "cell_type": "code",
   "execution_count": 33,
   "id": "60ecfba5",
   "metadata": {
    "ExecuteTime": {
     "end_time": "2021-11-08T11:20:38.249536Z",
     "start_time": "2021-11-08T11:20:38.231193Z"
    }
   },
   "outputs": [
    {
     "data": {
      "text/plain": [
       "tensor([[7, 9, 7],\n",
       "        [6, 1, 8],\n",
       "        [7, 6, 5]])"
      ]
     },
     "execution_count": 33,
     "metadata": {},
     "output_type": "execute_result"
    }
   ],
   "source": [
    "# 12 切块\n",
    "a = torch.randint(1, 10, (3, 3))\n",
    "a"
   ]
  },
  {
   "cell_type": "code",
   "execution_count": 34,
   "id": "b936a2d5",
   "metadata": {
    "ExecuteTime": {
     "end_time": "2021-11-08T11:21:32.002770Z",
     "start_time": "2021-11-08T11:21:31.985336Z"
    }
   },
   "outputs": [
    {
     "data": {
      "text/plain": [
       "(tensor([[7, 9, 7],\n",
       "         [6, 1, 8]]),\n",
       " tensor([[7, 6, 5]]))"
      ]
     },
     "execution_count": 34,
     "metadata": {},
     "output_type": "execute_result"
    }
   ],
   "source": [
    "torch.chunk(a, 2, 0)"
   ]
  },
  {
   "cell_type": "code",
   "execution_count": 35,
   "id": "7cd5bd25",
   "metadata": {
    "ExecuteTime": {
     "end_time": "2021-11-08T11:22:17.837246Z",
     "start_time": "2021-11-08T11:22:17.809667Z"
    }
   },
   "outputs": [
    {
     "data": {
      "text/plain": [
       "(tensor([[7, 9],\n",
       "         [6, 1],\n",
       "         [7, 6]]),\n",
       " tensor([[7],\n",
       "         [8],\n",
       "         [5]]))"
      ]
     },
     "execution_count": 35,
     "metadata": {},
     "output_type": "execute_result"
    }
   ],
   "source": [
    "torch.chunk(a, 2, 1)"
   ]
  },
  {
   "cell_type": "code",
   "execution_count": 36,
   "id": "8e6a9777",
   "metadata": {
    "ExecuteTime": {
     "end_time": "2021-11-08T11:22:46.141273Z",
     "start_time": "2021-11-08T11:22:46.116182Z"
    }
   },
   "outputs": [
    {
     "data": {
      "text/plain": [
       "tensor([[-1.5754, -0.3045, -1.2501,  1.5251],\n",
       "        [-0.4488,  0.4039,  0.0377, -0.3522],\n",
       "        [ 0.8883,  1.3149, -1.9600, -0.1154],\n",
       "        [ 1.1164,  1.0829,  1.1300, -1.0247]])"
      ]
     },
     "execution_count": 36,
     "metadata": {},
     "output_type": "execute_result"
    }
   ],
   "source": [
    "# 13 index_select根据索引选择\n",
    "x = torch.randn(4, 4)\n",
    "x"
   ]
  },
  {
   "cell_type": "code",
   "execution_count": 37,
   "id": "330a92aa",
   "metadata": {
    "ExecuteTime": {
     "end_time": "2021-11-08T11:23:02.026708Z",
     "start_time": "2021-11-08T11:23:02.007719Z"
    }
   },
   "outputs": [],
   "source": [
    "indices = torch.tensor([0, 2])"
   ]
  },
  {
   "cell_type": "code",
   "execution_count": 38,
   "id": "7b13c771",
   "metadata": {
    "ExecuteTime": {
     "end_time": "2021-11-08T11:23:18.514667Z",
     "start_time": "2021-11-08T11:23:18.490683Z"
    }
   },
   "outputs": [
    {
     "data": {
      "text/plain": [
       "tensor([[-1.5754, -0.3045, -1.2501,  1.5251],\n",
       "        [ 0.8883,  1.3149, -1.9600, -0.1154]])"
      ]
     },
     "execution_count": 38,
     "metadata": {},
     "output_type": "execute_result"
    }
   ],
   "source": [
    "torch.index_select(x, 0, indices) # 第0行和第2行"
   ]
  },
  {
   "cell_type": "code",
   "execution_count": 39,
   "id": "03525bd0",
   "metadata": {
    "ExecuteTime": {
     "end_time": "2021-11-08T11:23:39.920405Z",
     "start_time": "2021-11-08T11:23:39.909323Z"
    }
   },
   "outputs": [
    {
     "data": {
      "text/plain": [
       "tensor([[-1.5754, -1.2501],\n",
       "        [-0.4488,  0.0377],\n",
       "        [ 0.8883, -1.9600],\n",
       "        [ 1.1164,  1.1300]])"
      ]
     },
     "execution_count": 39,
     "metadata": {},
     "output_type": "execute_result"
    }
   ],
   "source": [
    "torch.index_select(x, 1, indices) # 第0列和第2列"
   ]
  },
  {
   "cell_type": "code",
   "execution_count": 43,
   "id": "3692e916",
   "metadata": {
    "ExecuteTime": {
     "end_time": "2021-11-08T11:25:07.116736Z",
     "start_time": "2021-11-08T11:25:07.108452Z"
    }
   },
   "outputs": [
    {
     "data": {
      "text/plain": [
       "tensor([ 1,  2,  3,  4,  5,  6,  7,  8,  9, 10])"
      ]
     },
     "execution_count": 43,
     "metadata": {},
     "output_type": "execute_result"
    }
   ],
   "source": [
    "# 14 split 分割\n",
    "x = torch.tensor([1, 2, 3, 4, 5, 6, 7, 8, 9, 10])\n",
    "x"
   ]
  },
  {
   "cell_type": "code",
   "execution_count": 44,
   "id": "d044e40d",
   "metadata": {
    "ExecuteTime": {
     "end_time": "2021-11-08T11:25:07.223363Z",
     "start_time": "2021-11-08T11:25:07.214904Z"
    }
   },
   "outputs": [
    {
     "data": {
      "text/plain": [
       "(tensor([1, 2, 3]), tensor([4, 5, 6]), tensor([7, 8, 9]), tensor([10]))"
      ]
     },
     "execution_count": 44,
     "metadata": {},
     "output_type": "execute_result"
    }
   ],
   "source": [
    "torch.split(x, 3)"
   ]
  },
  {
   "cell_type": "code",
   "execution_count": 46,
   "id": "1752a7b9",
   "metadata": {
    "ExecuteTime": {
     "end_time": "2021-11-08T11:25:34.891670Z",
     "start_time": "2021-11-08T11:25:34.876624Z"
    }
   },
   "outputs": [
    {
     "data": {
      "text/plain": [
       "tensor([[1, 2],\n",
       "        [3, 4]])"
      ]
     },
     "execution_count": 46,
     "metadata": {},
     "output_type": "execute_result"
    }
   ],
   "source": [
    "# 15 转置\n",
    "x = torch.tensor([[1, 2], [3, 4]])\n",
    "x"
   ]
  },
  {
   "cell_type": "code",
   "execution_count": 47,
   "id": "f7b31b54",
   "metadata": {
    "ExecuteTime": {
     "end_time": "2021-11-08T11:25:40.883658Z",
     "start_time": "2021-11-08T11:25:40.867436Z"
    }
   },
   "outputs": [
    {
     "data": {
      "text/plain": [
       "tensor([[1, 3],\n",
       "        [2, 4]])"
      ]
     },
     "execution_count": 47,
     "metadata": {},
     "output_type": "execute_result"
    }
   ],
   "source": [
    "x.t()"
   ]
  },
  {
   "cell_type": "code",
   "execution_count": 49,
   "id": "0ce8f2ba",
   "metadata": {
    "ExecuteTime": {
     "end_time": "2021-11-08T11:25:55.240337Z",
     "start_time": "2021-11-08T11:25:55.224385Z"
    }
   },
   "outputs": [
    {
     "data": {
      "text/plain": [
       "tensor([[1, 3],\n",
       "        [2, 4]])"
      ]
     },
     "execution_count": 49,
     "metadata": {},
     "output_type": "execute_result"
    }
   ],
   "source": [
    "x.transpose(1, 0)"
   ]
  },
  {
   "cell_type": "code",
   "execution_count": 51,
   "id": "5361495a",
   "metadata": {
    "ExecuteTime": {
     "end_time": "2021-11-08T11:26:22.330077Z",
     "start_time": "2021-11-08T11:26:22.323415Z"
    }
   },
   "outputs": [
    {
     "data": {
      "text/plain": [
       "tensor([[1, 2],\n",
       "        [3, 4]])"
      ]
     },
     "execution_count": 51,
     "metadata": {},
     "output_type": "execute_result"
    }
   ],
   "source": [
    "# 16 运算\n",
    "x = torch.tensor([[1, 2], [3, 4]])\n",
    "x"
   ]
  },
  {
   "cell_type": "code",
   "execution_count": 52,
   "id": "3b328b50",
   "metadata": {
    "ExecuteTime": {
     "end_time": "2021-11-08T11:26:28.445365Z",
     "start_time": "2021-11-08T11:26:28.421716Z"
    }
   },
   "outputs": [
    {
     "data": {
      "text/plain": [
       "tensor([[2, 3],\n",
       "        [4, 5]])"
      ]
     },
     "execution_count": 52,
     "metadata": {},
     "output_type": "execute_result"
    }
   ],
   "source": [
    "torch.add(x, 1)"
   ]
  },
  {
   "cell_type": "code",
   "execution_count": 53,
   "id": "ce3ac67d",
   "metadata": {
    "ExecuteTime": {
     "end_time": "2021-11-08T11:26:34.403397Z",
     "start_time": "2021-11-08T11:26:34.388471Z"
    }
   },
   "outputs": [
    {
     "data": {
      "text/plain": [
       "tensor([[2, 4],\n",
       "        [6, 8]])"
      ]
     },
     "execution_count": 53,
     "metadata": {},
     "output_type": "execute_result"
    }
   ],
   "source": [
    "torch.mul(x, 2)"
   ]
  },
  {
   "cell_type": "markdown",
   "id": "138e795b",
   "metadata": {},
   "source": [
    "## 手写数字识别 Mnist\n",
    "\n",
    "输入数字图片 -> 网络模型处理 -> 输出识别结果\n",
    "\n",
    "**MNIST数据集是什么？**\n",
    "\n",
    "- 该数据集包含60，000个用于训练的示例和10，000个用于测试的示例。\n",
    "- 数据集包含了0-9共10类手写数字图片，每张图片都做了尺寸归一化，都是28×28大小的灰度图。\n",
    "\n",
    "图片都是经过特殊处理的二进制文件，不能直接读写\n",
    "\n",
    "手写字体的识别流程\n",
    "\n",
    "1. 定义超参数；\n",
    "2. 构建transforms，主要是对图像做变换；\n",
    "3. 下载、加载数据集MNIST；\n",
    "4. 构建网络模型；\n",
    "5. 定义训练方法；\n",
    "6. 定义测试方法；\n",
    "7. 开始训练模型，输出预测结果；\n",
    "\n",
    "专业名词解释\n",
    "\n",
    "1. 参数与超参数。参数：模型f（x，）中的0称为模型的参数，可以通过优化算法进行学习；超参数：用来定义模型结构或优化策略。\n",
    "\n",
    "2. batch_size批处理时每次处理的数据数量。\n",
    "\n",
    "3. epoch轮次。把一个数据集，循环运行几轮。\n",
    "\n",
    "4. transforms变换。主要是将图片转换为tensor，旋转图片，以及正则化。\n",
    "\n",
    "5. nomalize正则化。模型出现过拟合现象时，降低模型复杂度。\n",
    "\n",
    "6. 卷积层。由卷积核构建，卷积核简称为卷积，也称为滤波器。卷积的大小可以在实际需要时自定义其长和宽（1\\*1，3\\*3，5\\*5）。\n",
    "\n",
    "7. 池化层。对图片进行压缩（降采样）的一种方法，如max pooling，average pooling等。\n",
    "\n",
    "8. 激活层。激活函数的作用就是，在所有的隐藏层之间添加一个激活函数，这样的输给就是一个非线性雷数了，因而神经网络的表达能力黄加强天了”\n",
    "\n",
    "9. 损失函数。在深度学习中，损失反映模型最后预测结果与实际真值之间的差距，可以用来分析训练过程的好坏、模型是否收敛等，例如均方损失、交叉熵损失\n",
    "\n",
    "[具体过程](./number-detect.ipynb)"
   ]
  },
  {
   "cell_type": "code",
   "execution_count": null,
   "id": "78bd3bc0",
   "metadata": {},
   "outputs": [],
   "source": []
  }
 ],
 "metadata": {
  "kernelspec": {
   "display_name": "Python 3",
   "language": "python",
   "name": "python3"
  },
  "language_info": {
   "codemirror_mode": {
    "name": "ipython",
    "version": 3
   },
   "file_extension": ".py",
   "mimetype": "text/x-python",
   "name": "python",
   "nbconvert_exporter": "python",
   "pygments_lexer": "ipython3",
   "version": "3.8.8"
  },
  "toc": {
   "base_numbering": 1,
   "nav_menu": {},
   "number_sections": true,
   "sideBar": true,
   "skip_h1_title": false,
   "title_cell": "Table of Contents",
   "title_sidebar": "Contents",
   "toc_cell": false,
   "toc_position": {},
   "toc_section_display": true,
   "toc_window_display": false
  },
  "varInspector": {
   "cols": {
    "lenName": 16,
    "lenType": 16,
    "lenVar": 40
   },
   "kernels_config": {
    "python": {
     "delete_cmd_postfix": "",
     "delete_cmd_prefix": "del ",
     "library": "var_list.py",
     "varRefreshCmd": "print(var_dic_list())"
    },
    "r": {
     "delete_cmd_postfix": ") ",
     "delete_cmd_prefix": "rm(",
     "library": "var_list.r",
     "varRefreshCmd": "cat(var_dic_list()) "
    }
   },
   "position": {
    "height": "142.85px",
    "left": "1290.67px",
    "right": "20px",
    "top": "120px",
    "width": "289.333px"
   },
   "types_to_exclude": [
    "module",
    "function",
    "builtin_function_or_method",
    "instance",
    "_Feature"
   ],
   "window_display": false
  }
 },
 "nbformat": 4,
 "nbformat_minor": 5
}
