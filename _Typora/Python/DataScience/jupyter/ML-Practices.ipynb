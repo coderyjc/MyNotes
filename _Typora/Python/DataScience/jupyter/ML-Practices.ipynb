{
 "cells": [
  {
   "cell_type": "markdown",
   "id": "4dd98df4",
   "metadata": {},
   "source": [
    "# ex1 线性回归"
   ]
  },
  {
   "cell_type": "markdown",
   "id": "8c1cadd7",
   "metadata": {
    "heading_collapsed": true
   },
   "source": [
    "## 输出一个 5*5 的单位矩阵"
   ]
  },
  {
   "cell_type": "code",
   "execution_count": 2,
   "id": "fc91e91b",
   "metadata": {
    "hidden": true
   },
   "outputs": [
    {
     "data": {
      "text/plain": [
       "array([[1., 0., 0., 0., 0.],\n",
       "       [0., 1., 0., 0., 0.],\n",
       "       [0., 0., 1., 0., 0.],\n",
       "       [0., 0., 0., 1., 0.],\n",
       "       [0., 0., 0., 0., 1.]])"
      ]
     },
     "execution_count": 2,
     "metadata": {},
     "output_type": "execute_result"
    }
   ],
   "source": [
    "import numpy as np\n",
    "\n",
    "def simpleFunction():\n",
    "    return np.eye(5)\n",
    "\n",
    "simpleFunction()"
   ]
  },
  {
   "cell_type": "markdown",
   "id": "ab03897a",
   "metadata": {
    "heading_collapsed": true
   },
   "source": [
    "## 单变量线性回归"
   ]
  },
  {
   "cell_type": "markdown",
   "id": "d2a6b584",
   "metadata": {
    "hidden": true
   },
   "source": [
    "数据在ex1data1.txt里，第一列是城市人口数量，第二列是该城市小吃店利润。确定在哪个城市开展业务。\n",
    "\n",
    "> You would like to use this data to help you select which city to expand to next.\n",
    "> The file ex1data1.txt contains the dataset for our linear regression problem. The first column is the opulation of a city and the second column is the profit of a food truck in that city. A negative value for profit indicates a loss."
   ]
  },
  {
   "cell_type": "markdown",
   "id": "fb450309",
   "metadata": {
    "hidden": true
   },
   "source": [
    "### 读取数据"
   ]
  },
  {
   "cell_type": "code",
   "execution_count": 52,
   "id": "f057246a",
   "metadata": {
    "hidden": true
   },
   "outputs": [
    {
     "data": {
      "text/html": [
       "<div>\n",
       "<style scoped>\n",
       "    .dataframe tbody tr th:only-of-type {\n",
       "        vertical-align: middle;\n",
       "    }\n",
       "\n",
       "    .dataframe tbody tr th {\n",
       "        vertical-align: top;\n",
       "    }\n",
       "\n",
       "    .dataframe thead th {\n",
       "        text-align: right;\n",
       "    }\n",
       "</style>\n",
       "<table border=\"1\" class=\"dataframe\">\n",
       "  <thead>\n",
       "    <tr style=\"text-align: right;\">\n",
       "      <th></th>\n",
       "      <th>population</th>\n",
       "      <th>profit</th>\n",
       "    </tr>\n",
       "  </thead>\n",
       "  <tbody>\n",
       "    <tr>\n",
       "      <th>0</th>\n",
       "      <td>6.1101</td>\n",
       "      <td>17.5920</td>\n",
       "    </tr>\n",
       "    <tr>\n",
       "      <th>1</th>\n",
       "      <td>5.5277</td>\n",
       "      <td>9.1302</td>\n",
       "    </tr>\n",
       "    <tr>\n",
       "      <th>2</th>\n",
       "      <td>8.5186</td>\n",
       "      <td>13.6620</td>\n",
       "    </tr>\n",
       "    <tr>\n",
       "      <th>3</th>\n",
       "      <td>7.0032</td>\n",
       "      <td>11.8540</td>\n",
       "    </tr>\n",
       "    <tr>\n",
       "      <th>4</th>\n",
       "      <td>5.8598</td>\n",
       "      <td>6.8233</td>\n",
       "    </tr>\n",
       "  </tbody>\n",
       "</table>\n",
       "</div>"
      ],
      "text/plain": [
       "   population   profit\n",
       "0      6.1101  17.5920\n",
       "1      5.5277   9.1302\n",
       "2      8.5186  13.6620\n",
       "3      7.0032  11.8540\n",
       "4      5.8598   6.8233"
      ]
     },
     "execution_count": 52,
     "metadata": {},
     "output_type": "execute_result"
    }
   ],
   "source": [
    "import pandas as pd\n",
    "import numpy as np\n",
    "import matplotlib.pyplot as plt\n",
    "\n",
    "data = pd.read_csv('./ML_Practice/ex1/ex1data1.txt', names=['population', 'profit'])\n",
    "data.head()"
   ]
  },
  {
   "cell_type": "markdown",
   "id": "eba7f200",
   "metadata": {
    "hidden": true
   },
   "source": [
    "### 画出散点图"
   ]
  },
  {
   "cell_type": "code",
   "execution_count": 3,
   "id": "6b1bfa07",
   "metadata": {
    "hidden": true
   },
   "outputs": [
    {
     "data": {
      "text/plain": [
       "<AxesSubplot:xlabel='population', ylabel='profit'>"
      ]
     },
     "execution_count": 3,
     "metadata": {},
     "output_type": "execute_result"
    },
    {
     "data": {
      "image/png": "[encoded data removed]",
      "text/plain": [
       "<Figure size 1080x720 with 1 Axes>"
      ]
     },
     "metadata": {
      "needs_background": "light"
     },
     "output_type": "display_data"
    }
   ],
   "source": [
    "data.plot(kind='scatter', x='population', y='profit', figsize=(15,10))"
   ]
  },
  {
   "cell_type": "markdown",
   "id": "7028d46e",
   "metadata": {
    "hidden": true
   },
   "source": [
    "### 梯度下降"
   ]
  },
  {
   "cell_type": "markdown",
   "id": "20b42706",
   "metadata": {
    "hidden": true
   },
   "source": [
    "代价函数"
   ]
  },
  {
   "cell_type": "markdown",
   "id": "d93741f4",
   "metadata": {
    "hidden": true
   },
   "source": [
    "$$\n",
    "J(\\theta) = \\frac{1}{2m} \\sum_{i=1}^{m} (h_\\theta(x^{(i)}) - y^{(i)})^2\n",
    "$$\n",
    "\n",
    "其中\n",
    "\n",
    "$$\n",
    "h_\\theta(x^{(i)}) = \\theta^TX = \\theta_0x_0 + \\theta_1x_1 + ... + \\theta_nx_n\n",
    "$$\n"
   ]
  },
  {
   "cell_type": "code",
   "execution_count": 4,
   "id": "a9abe9ef",
   "metadata": {
    "hidden": true
   },
   "outputs": [],
   "source": [
    "def costFunction(X, y, theta):\n",
    "    inner = np.power((X * theta.T - y), 2)\n",
    "    return np.sum(inner) / (2 * len(X))"
   ]
  },
  {
   "cell_type": "code",
   "execution_count": 57,
   "id": "e56fbe24",
   "metadata": {
    "hidden": true
   },
   "outputs": [],
   "source": [
    "# 加入一列x更新 theta0\n",
    "data.insert(0, 'Ones', 1)"
   ]
  },
  {
   "cell_type": "code",
   "execution_count": 58,
   "id": "01a91fd2",
   "metadata": {
    "hidden": true
   },
   "outputs": [],
   "source": [
    "cols = data.shape[1]\n",
    "\n",
    "#X是data里的除最后列\n",
    "X = data.iloc[:,:-1]\n",
    "\n",
    "#y是data最后一列\n",
    "y = data.iloc[:,cols-1:cols]"
   ]
  },
  {
   "cell_type": "code",
   "execution_count": 54,
   "id": "4d29656f",
   "metadata": {
    "hidden": true
   },
   "outputs": [],
   "source": [
    "# 将X和y转换为 numpy 矩阵\n",
    "X = np.matrix(X.values)\n",
    "\n",
    "y = np.matrix(y.values)\n",
    "\n",
    "theta = np.matrix(np.array([0,0]))"
   ]
  },
  {
   "cell_type": "code",
   "execution_count": 17,
   "id": "bc9b8b7f",
   "metadata": {
    "hidden": true
   },
   "outputs": [],
   "source": [
    "# 梯度下降\n",
    "def gradientDescent(X, y, theta, alpha, iters):\n",
    "    temp = np.matrix(np.zeros(theta.shape))\n",
    "    parameters = int(theta.ravel().shape[1])\n",
    "    cost = np.zeros(iters)\n",
    "    \n",
    "    for i in range(iters):\n",
    "        error = (X * theta.T) - y\n",
    "        \n",
    "        for j in range(parameters):\n",
    "            term = np.multiply(error, X[:,j])\n",
    "            temp[0,j] = theta[0,j] - ((alpha / len(X)) * np.sum(term))\n",
    "            \n",
    "        theta = temp\n",
    "        cost[i] = cost(X, y, theta)\n",
    "        \n",
    "    return theta, cost"
   ]
  },
  {
   "cell_type": "code",
   "execution_count": 18,
   "id": "e088a794",
   "metadata": {
    "hidden": true
   },
   "outputs": [],
   "source": [
    "alpha = 0.01\n",
    "iters = 1500"
   ]
  },
  {
   "cell_type": "code",
   "execution_count": 26,
   "id": "9985a15b",
   "metadata": {
    "hidden": true
   },
   "outputs": [
    {
     "data": {
      "text/plain": [
       "matrix([[-3.63029144,  1.16636235]])"
      ]
     },
     "execution_count": 26,
     "metadata": {},
     "output_type": "execute_result"
    }
   ],
   "source": [
    "g, cost = gradientDescent(X, y, theta, alpha, iters)\n",
    "g"
   ]
  },
  {
   "cell_type": "code",
   "execution_count": 32,
   "id": "c3de2095",
   "metadata": {
    "hidden": true
   },
   "outputs": [
    {
     "data": {
      "image/png": "[encoded data removed]",
      "text/plain": [
       "<Figure size 864x576 with 1 Axes>"
      ]
     },
     "metadata": {
      "needs_background": "light"
     },
     "output_type": "display_data"
    }
   ],
   "source": [
    "x = np.linspace(data.population.min(), data.population.max(), 100)\n",
    "f = g[0, 0] + (g[0, 1] * x)\n",
    "\n",
    "fig, ax = plt.subplots(figsize=(12,8))\n",
    "ax.plot(x, f, 'r', label='Prediction')\n",
    "ax.scatter(data.population, data.profit, label='Traning Data')\n",
    "ax.legend(loc=2)\n",
    "ax.set_xlabel('Population')\n",
    "ax.set_ylabel('Profit')\n",
    "ax.set_title('Predicted Profit vs. Population Size')\n",
    "plt.show()\n",
    "#原始数据以及拟合的直线"
   ]
  },
  {
   "cell_type": "markdown",
   "id": "7faea4cd",
   "metadata": {
    "heading_collapsed": true
   },
   "source": [
    "## 多变量线性回归"
   ]
  },
  {
   "cell_type": "markdown",
   "id": "61d4d904",
   "metadata": {
    "hidden": true
   },
   "source": [
    "ex1data2.txt里的数据，第一列是房屋大小，第二列是卧室数量，第三列是房屋售价\n",
    "\n",
    "根据已有数据，建立模型，预测房屋的售价"
   ]
  },
  {
   "cell_type": "code",
   "execution_count": 36,
   "id": "77ea8d9c",
   "metadata": {
    "hidden": true
   },
   "outputs": [
    {
     "data": {
      "text/html": [
       "<div>\n",
       "<style scoped>\n",
       "    .dataframe tbody tr th:only-of-type {\n",
       "        vertical-align: middle;\n",
       "    }\n",
       "\n",
       "    .dataframe tbody tr th {\n",
       "        vertical-align: top;\n",
       "    }\n",
       "\n",
       "    .dataframe thead th {\n",
       "        text-align: right;\n",
       "    }\n",
       "</style>\n",
       "<table border=\"1\" class=\"dataframe\">\n",
       "  <thead>\n",
       "    <tr style=\"text-align: right;\">\n",
       "      <th></th>\n",
       "      <th>size</th>\n",
       "      <th>number</th>\n",
       "      <th>price</th>\n",
       "    </tr>\n",
       "  </thead>\n",
       "  <tbody>\n",
       "    <tr>\n",
       "      <th>0</th>\n",
       "      <td>2104</td>\n",
       "      <td>3</td>\n",
       "      <td>399900</td>\n",
       "    </tr>\n",
       "    <tr>\n",
       "      <th>1</th>\n",
       "      <td>1600</td>\n",
       "      <td>3</td>\n",
       "      <td>329900</td>\n",
       "    </tr>\n",
       "    <tr>\n",
       "      <th>2</th>\n",
       "      <td>2400</td>\n",
       "      <td>3</td>\n",
       "      <td>369000</td>\n",
       "    </tr>\n",
       "    <tr>\n",
       "      <th>3</th>\n",
       "      <td>1416</td>\n",
       "      <td>2</td>\n",
       "      <td>232000</td>\n",
       "    </tr>\n",
       "    <tr>\n",
       "      <th>4</th>\n",
       "      <td>3000</td>\n",
       "      <td>4</td>\n",
       "      <td>539900</td>\n",
       "    </tr>\n",
       "  </tbody>\n",
       "</table>\n",
       "</div>"
      ],
      "text/plain": [
       "   size  number   price\n",
       "0  2104       3  399900\n",
       "1  1600       3  329900\n",
       "2  2400       3  369000\n",
       "3  1416       2  232000\n",
       "4  3000       4  539900"
      ]
     },
     "execution_count": 36,
     "metadata": {},
     "output_type": "execute_result"
    }
   ],
   "source": [
    "# 读取数据\n",
    "data = pd.read_csv('./ML_Practice/ex1/ex1data2.txt', names=['size', 'number', 'price'])\n",
    "data.head()"
   ]
  },
  {
   "cell_type": "code",
   "execution_count": 38,
   "id": "7a3a9b55",
   "metadata": {
    "hidden": true
   },
   "outputs": [],
   "source": [
    "# 代价函数\n",
    "def costFunction(X, y, theta):\n",
    "    inner = np.power((X * theta.T - y), 2)\n",
    "    return np.sum(inner) / (2 * len(X))\n"
   ]
  },
  {
   "cell_type": "code",
   "execution_count": 42,
   "id": "a64956d0",
   "metadata": {
    "hidden": true
   },
   "outputs": [
    {
     "data": {
      "text/html": [
       "<div>\n",
       "<style scoped>\n",
       "    .dataframe tbody tr th:only-of-type {\n",
       "        vertical-align: middle;\n",
       "    }\n",
       "\n",
       "    .dataframe tbody tr th {\n",
       "        vertical-align: top;\n",
       "    }\n",
       "\n",
       "    .dataframe thead th {\n",
       "        text-align: right;\n",
       "    }\n",
       "</style>\n",
       "<table border=\"1\" class=\"dataframe\">\n",
       "  <thead>\n",
       "    <tr style=\"text-align: right;\">\n",
       "      <th></th>\n",
       "      <th>Ones</th>\n",
       "      <th>size</th>\n",
       "      <th>number</th>\n",
       "      <th>price</th>\n",
       "    </tr>\n",
       "  </thead>\n",
       "  <tbody>\n",
       "    <tr>\n",
       "      <th>0</th>\n",
       "      <td>1</td>\n",
       "      <td>2104</td>\n",
       "      <td>3</td>\n",
       "      <td>399900</td>\n",
       "    </tr>\n",
       "    <tr>\n",
       "      <th>1</th>\n",
       "      <td>1</td>\n",
       "      <td>1600</td>\n",
       "      <td>3</td>\n",
       "      <td>329900</td>\n",
       "    </tr>\n",
       "    <tr>\n",
       "      <th>2</th>\n",
       "      <td>1</td>\n",
       "      <td>2400</td>\n",
       "      <td>3</td>\n",
       "      <td>369000</td>\n",
       "    </tr>\n",
       "    <tr>\n",
       "      <th>3</th>\n",
       "      <td>1</td>\n",
       "      <td>1416</td>\n",
       "      <td>2</td>\n",
       "      <td>232000</td>\n",
       "    </tr>\n",
       "    <tr>\n",
       "      <th>4</th>\n",
       "      <td>1</td>\n",
       "      <td>3000</td>\n",
       "      <td>4</td>\n",
       "      <td>539900</td>\n",
       "    </tr>\n",
       "  </tbody>\n",
       "</table>\n",
       "</div>"
      ],
      "text/plain": [
       "   Ones  size  number   price\n",
       "0     1  2104       3  399900\n",
       "1     1  1600       3  329900\n",
       "2     1  2400       3  369000\n",
       "3     1  1416       2  232000\n",
       "4     1  3000       4  539900"
      ]
     },
     "execution_count": 42,
     "metadata": {},
     "output_type": "execute_result"
    }
   ],
   "source": [
    "# 加入一列x更新 theta0\n",
    "data.insert(0, 'Ones', np.ones(data.shape[0]))\n"
   ]
  },
  {
   "cell_type": "code",
   "execution_count": 47,
   "id": "80b32ab7",
   "metadata": {
    "hidden": true
   },
   "outputs": [],
   "source": [
    "from numpy.linalg import inv\n",
    "\n",
    "cols = data.shape[1]\n",
    "\n",
    "#X是data里的除最后列\n",
    "X = data.iloc[:,:-1]\n",
    "\n",
    "#y是data最后一列\n",
    "y = data.iloc[:,cols-1:cols]\n",
    "\n",
    "# 将X和y转换为 numpy 矩阵\n",
    "X = np.matrix(X.values)\n",
    "\n",
    "y = np.matrix(y.values)"
   ]
  },
  {
   "cell_type": "code",
   "execution_count": 49,
   "id": "7d93dd02",
   "metadata": {
    "hidden": true
   },
   "outputs": [],
   "source": [
    "def normalEqution(X, y):\n",
    "    theta = np.linalg.inv(X.T@X)@X.T@y#X.T@X等价于X.T.dot(X)\n",
    "    return theta"
   ]
  },
  {
   "cell_type": "code",
   "execution_count": 50,
   "id": "bdcf8fab",
   "metadata": {
    "hidden": true
   },
   "outputs": [
    {
     "data": {
      "text/plain": [
       "matrix([[89597.9095428 ],\n",
       "        [  139.21067402],\n",
       "        [-8738.01911233]])"
      ]
     },
     "execution_count": 50,
     "metadata": {},
     "output_type": "execute_result"
    }
   ],
   "source": [
    "normalEqution(X, y)"
   ]
  },
  {
   "cell_type": "markdown",
   "id": "03b3ea32",
   "metadata": {},
   "source": [
    "# ex2 逻辑回归和正则化"
   ]
  },
  {
   "cell_type": "markdown",
   "id": "6881be77",
   "metadata": {},
   "source": [
    "## 逻辑回归"
   ]
  },
  {
   "cell_type": "code",
   "execution_count": 2,
   "id": "6ff04daa",
   "metadata": {},
   "outputs": [],
   "source": [
    "import numpy as np\n",
    "import pandas as pd\n",
    "import matplotlib.pyplot as plt"
   ]
  },
  {
   "cell_type": "markdown",
   "id": "fd1fe3ed",
   "metadata": {},
   "source": [
    "### 数据可视化"
   ]
  },
  {
   "cell_type": "code",
   "execution_count": 7,
   "id": "e4dedb09",
   "metadata": {},
   "outputs": [
    {
     "data": {
      "text/html": [
       "<div>\n",
       "<style scoped>\n",
       "    .dataframe tbody tr th:only-of-type {\n",
       "        vertical-align: middle;\n",
       "    }\n",
       "\n",
       "    .dataframe tbody tr th {\n",
       "        vertical-align: top;\n",
       "    }\n",
       "\n",
       "    .dataframe thead th {\n",
       "        text-align: right;\n",
       "    }\n",
       "</style>\n",
       "<table border=\"1\" class=\"dataframe\">\n",
       "  <thead>\n",
       "    <tr style=\"text-align: right;\">\n",
       "      <th></th>\n",
       "      <th>Exam 1</th>\n",
       "      <th>Exam 2</th>\n",
       "      <th>Admitted</th>\n",
       "    </tr>\n",
       "  </thead>\n",
       "  <tbody>\n",
       "    <tr>\n",
       "      <th>0</th>\n",
       "      <td>34.623660</td>\n",
       "      <td>78.024693</td>\n",
       "      <td>0</td>\n",
       "    </tr>\n",
       "    <tr>\n",
       "      <th>1</th>\n",
       "      <td>30.286711</td>\n",
       "      <td>43.894998</td>\n",
       "      <td>0</td>\n",
       "    </tr>\n",
       "    <tr>\n",
       "      <th>2</th>\n",
       "      <td>35.847409</td>\n",
       "      <td>72.902198</td>\n",
       "      <td>0</td>\n",
       "    </tr>\n",
       "    <tr>\n",
       "      <th>3</th>\n",
       "      <td>60.182599</td>\n",
       "      <td>86.308552</td>\n",
       "      <td>1</td>\n",
       "    </tr>\n",
       "    <tr>\n",
       "      <th>4</th>\n",
       "      <td>79.032736</td>\n",
       "      <td>75.344376</td>\n",
       "      <td>1</td>\n",
       "    </tr>\n",
       "  </tbody>\n",
       "</table>\n",
       "</div>"
      ],
      "text/plain": [
       "      Exam 1     Exam 2  Admitted\n",
       "0  34.623660  78.024693         0\n",
       "1  30.286711  43.894998         0\n",
       "2  35.847409  72.902198         0\n",
       "3  60.182599  86.308552         1\n",
       "4  79.032736  75.344376         1"
      ]
     },
     "execution_count": 7,
     "metadata": {},
     "output_type": "execute_result"
    }
   ],
   "source": [
    "path = './ML_Practice/ex2/ex2data1.txt'\n",
    "data = pd.read_csv(path, header=None, names=['Exam 1', 'Exam 2', 'Admitted'])\n",
    "data.head()"
   ]
  },
  {
   "cell_type": "code",
   "execution_count": 11,
   "id": "2ca9b9cd",
   "metadata": {},
   "outputs": [
    {
     "data": {
      "image/png": "[encoded data removed]",
      "text/plain": [
       "<Figure size 864x576 with 1 Axes>"
      ]
     },
     "metadata": {
      "needs_background": "light"
     },
     "output_type": "display_data"
    }
   ],
   "source": [
    "positive = data[data['Admitted'].isin([1])]\n",
    "negtive = data[data['Admitted'].isin([0])]\n",
    "\n",
    "fig, ax = plt.subplots(figsize=(12, 8))\n",
    "\n",
    "ax.scatter(positive['Exam 1'], positive['Exam 2'], s=50, c='b', marker='o', label='Exam 1 Score')\n",
    "ax.scatter(negtive['Exam 1'], negtive['Exam 2'], s=50, c='r', marker='x', label='Exam 2 Score')\n",
    "ax.legend()\n",
    "plt.show()"
   ]
  },
  {
   "cell_type": "markdown",
   "id": "a6249e06",
   "metadata": {},
   "source": [
    "### 实现"
   ]
  },
  {
   "cell_type": "code",
   "execution_count": 13,
   "id": "a790ceb4",
   "metadata": {},
   "outputs": [],
   "source": [
    "# sigmoid 函数\n",
    "def sigmoid(z):\n",
    "    return 1 / (1 + np.exp(-z))\n"
   ]
  },
  {
   "cell_type": "code",
   "execution_count": 14,
   "id": "8bf071f2",
   "metadata": {},
   "outputs": [],
   "source": [
    "# 代价函数\n",
    "def cost(theta, X, y):\n",
    "    theta = np.matrix(theta)\n",
    "    X = np.matrix(X)\n",
    "    y = np.matrix(y)\n",
    "    first = np.multiply(-y, np.log(sigmoid(X * theta.T)))\n",
    "    second = np.multiply((1 - y), np.log(1 - sigmoid(X * theta.T)))\n",
    "    return np.sum(first - second) / (len(X))\n"
   ]
  },
  {
   "cell_type": "code",
   "execution_count": 15,
   "id": "30d27ad7",
   "metadata": {},
   "outputs": [],
   "source": [
    "# 增加常数列\n",
    "data.insert(0, 'Ones', 1)\n",
    "\n",
    "# 初始化 X，y, 0\n",
    "cols = data.shape[1]\n",
    "X = data.iloc[:, 0:cols-1]\n",
    "y = data.iloc[:, cols-1: cols]\n",
    "theta = np.zeros(3)\n",
    "\n",
    "# 装换X，y类型\n",
    "X = np.array(X.values)\n",
    "y = np.array(y.values)\n"
   ]
  },
  {
   "cell_type": "code",
   "execution_count": 16,
   "id": "55ed3a13",
   "metadata": {},
   "outputs": [
    {
     "data": {
      "text/plain": [
       "((100, 3), (3,), (100, 1))"
      ]
     },
     "execution_count": 16,
     "metadata": {},
     "output_type": "execute_result"
    }
   ],
   "source": [
    "# 检查矩阵维度\n",
    "X.shape, theta.shape, y.shape"
   ]
  },
  {
   "cell_type": "code",
   "execution_count": 17,
   "id": "377b23f3",
   "metadata": {},
   "outputs": [
    {
     "data": {
      "text/plain": [
       "0.6931471805599453"
      ]
     },
     "execution_count": 17,
     "metadata": {},
     "output_type": "execute_result"
    }
   ],
   "source": [
    "cost(theta, X, y)"
   ]
  },
  {
   "cell_type": "code",
   "execution_count": 21,
   "id": "77500e52",
   "metadata": {},
   "outputs": [],
   "source": [
    "# 实现梯度计算的函数（没有更新theta）\n",
    "def gradient(theta, X, y):\n",
    "    theta = np.matrix(theta)\n",
    "    X = np.matrix(X)\n",
    "    y = np.matrix(y)\n",
    "    \n",
    "    parameters = int(theta.ravel().shape[1])\n",
    "    grad = np.zeros(parameters)\n",
    "    \n",
    "    error = sigmoid(X * theta.T) - y\n",
    "    \n",
    "    for i in range(parameters):\n",
    "        term = np.multiply(error, X[:, i])\n",
    "        grad[i] = np.sum(term) / len(X)\n",
    "        \n",
    "    return grad"
   ]
  },
  {
   "cell_type": "code",
   "execution_count": 22,
   "id": "8c9533b4",
   "metadata": {},
   "outputs": [
    {
     "data": {
      "text/plain": [
       "(array([-25.16131864,   0.20623159,   0.20147149]), 36, 0)"
      ]
     },
     "execution_count": 22,
     "metadata": {},
     "output_type": "execute_result"
    }
   ],
   "source": [
    "# 使用工具库计算theta的值\n",
    "#我们不用自己定义迭代次数和步长，功能会直接告诉我们最优解\n",
    "\n",
    "import scipy.optimize as opt\n",
    "\n",
    "# 返回值：优化目标、迭代次数、状态码\n",
    "result = opt.fmin_tnc(func=cost, x0=theta, fprime=gradient, args=(X, y))\n",
    "result"
   ]
  },
  {
   "cell_type": "code",
   "execution_count": 23,
   "id": "7cff711d",
   "metadata": {},
   "outputs": [
    {
     "data": {
      "text/plain": [
       "0.20349770158947453"
      ]
     },
     "execution_count": 23,
     "metadata": {},
     "output_type": "execute_result"
    }
   ],
   "source": [
    "# 用θ的计算结果代回代价函数计算\n",
    "cost(result[0], X, y)"
   ]
  },
  {
   "cell_type": "code",
   "execution_count": 24,
   "id": "63d218d4",
   "metadata": {},
   "outputs": [
    {
     "data": {
      "text/plain": [
       "[<matplotlib.lines.Line2D at 0x7fcd8e6e21c0>]"
      ]
     },
     "execution_count": 24,
     "metadata": {},
     "output_type": "execute_result"
    },
    {
     "data": {
      "image/png": "[encoded data removed]",
      "text/plain": [
       "<Figure size 864x576 with 1 Axes>"
      ]
     },
     "metadata": {
      "needs_background": "light"
     },
     "output_type": "display_data"
    }
   ],
   "source": [
    "# 画出决策曲线\n",
    "plotting_x1 = np.linspace(30, 100, 100)\n",
    "plotting_h1 = (-result[0][0] - result[0][1] * plotting_x1) / result[0][2]\n",
    "\n",
    "fig, ax = plt.subplots(figsize=(12, 8))\n",
    "ax.plot(plotting_x1, plotting_h1, 'y', label='Prediction')\n"
   ]
  },
  {
   "cell_type": "code",
   "execution_count": null,
   "id": "4d37fd27",
   "metadata": {},
   "outputs": [],
   "source": []
  }
 ],
 "metadata": {
  "kernelspec": {
   "display_name": "Python 3",
   "language": "python",
   "name": "python3"
  },
  "language_info": {
   "codemirror_mode": {
    "name": "ipython",
    "version": 3
   },
   "file_extension": ".py",
   "mimetype": "text/x-python",
   "name": "python",
   "nbconvert_exporter": "python",
   "pygments_lexer": "ipython3",
   "version": "3.8.8"
  },
  "toc": {
   "base_numbering": 1,
   "nav_menu": {},
   "number_sections": true,
   "sideBar": true,
   "skip_h1_title": false,
   "title_cell": "Table of Contents",
   "title_sidebar": "Contents",
   "toc_cell": false,
   "toc_position": {},
   "toc_section_display": true,
   "toc_window_display": false
  }
 },
 "nbformat": 4,
 "nbformat_minor": 5
}
