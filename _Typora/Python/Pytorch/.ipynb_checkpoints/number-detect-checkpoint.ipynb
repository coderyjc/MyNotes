{
 "cells": [
  {
   "cell_type": "code",
   "execution_count": 11,
   "id": "56e97472",
   "metadata": {
    "ExecuteTime": {
     "end_time": "2021-11-08T11:49:32.390936Z",
     "start_time": "2021-11-08T11:49:31.834983Z"
    }
   },
   "outputs": [],
   "source": [
    "# 1 加载必要的库\n",
    "\n",
    "import torch\n",
    "import torch.nn as nn\n",
    "import torch.nn.functional as F\n",
    "import torch.optim as optim\n",
    "\n",
    "from torchvision import datasets, transforms"
   ]
  },
  {
   "cell_type": "code",
   "execution_count": 12,
   "id": "fc6ee022",
   "metadata": {
    "ExecuteTime": {
     "end_time": "2021-11-08T11:54:41.492628Z",
     "start_time": "2021-11-08T11:54:41.482796Z"
    }
   },
   "outputs": [],
   "source": [
    "# 2 定义超参数\n",
    "\n",
    "'''\n",
    "电脑的性能有限，在训练的时候需要一批批的训练\n",
    "将 60000 张图片分批次地放进模型中进行训练\n",
    "BATCH_SIZE 代表每一批图片的数量\n",
    "'''\n",
    "BATCH_SIZE = 128 \n",
    "\n",
    "'''\n",
    "在训练模型的时候，是使用CPU还是GPU\n",
    "'''\n",
    "DEVICE = torch.device('cuda' if torch.cuda.is_available else 'cpu')\n",
    "\n",
    "'''\n",
    "60000 张图片训练几轮\n",
    "'''\n",
    "EPOCHS = 10"
   ]
  },
  {
   "cell_type": "code",
   "execution_count": 13,
   "id": "375744b7",
   "metadata": {
    "ExecuteTime": {
     "end_time": "2021-11-08T12:00:50.547648Z",
     "start_time": "2021-11-08T12:00:50.538275Z"
    }
   },
   "outputs": [],
   "source": [
    "# 3 构建pipeline，对图像做处理\n",
    "\n",
    "pipeline = transforms.Compose([\n",
    "    transforms.ToTensor(), # 将图片转换成tensor\n",
    "    transforms.Normalize((0.1307,),(0.3081,)), # 正则化防止过拟合, 参数是官网提供的\n",
    "    # 降低模型复杂度\n",
    "])"
   ]
  },
  {
   "cell_type": "code",
   "execution_count": 15,
   "id": "39e8e546",
   "metadata": {
    "ExecuteTime": {
     "end_time": "2021-11-08T12:05:07.687721Z",
     "start_time": "2021-11-08T12:05:07.645300Z"
    }
   },
   "outputs": [],
   "source": [
    "# 4 下载、加载数据\n",
    "\n",
    "from torch.utils.data import DataLoader\n",
    "\n",
    "# 下载数据集\n",
    "train_set = datasets.MNIST(\"data\", train=True, download=True, transform=pipeline) \n",
    "\n",
    "test_set = datasets.MNIST(\"data\", train=False, download=True, transform=pipeline)\n",
    "\n",
    "# 加载数据集\n",
    "train_loader = DataLoader(train_set, batch_size=BATCH_SIZE, shuffle=True)\n",
    "test_loader = DataLoader(test_set, batch_size=BATCH_SIZE, shuffle=True)\n"
   ]
  },
  {
   "cell_type": "code",
   "execution_count": 18,
   "id": "23a253f6",
   "metadata": {
    "ExecuteTime": {
     "end_time": "2021-11-08T12:12:15.737772Z",
     "start_time": "2021-11-08T12:12:15.710583Z"
    }
   },
   "outputs": [],
   "source": [
    "# 拿到图片之后是二进制的数据流，是压缩过的，我们如何才能看到实际的图片呢？\n",
    "\n",
    "# 插入代码，显示MNIST中的图片\n",
    "\n",
    "with open('./data/MNIST/raw/train-images-idx3-ubyte', \"rb\") as f:\n",
    "    file = f.read()"
   ]
  },
  {
   "cell_type": "code",
   "execution_count": 25,
   "id": "03384094",
   "metadata": {
    "ExecuteTime": {
     "end_time": "2021-11-08T12:20:19.608710Z",
     "start_time": "2021-11-08T12:20:19.601319Z"
    }
   },
   "outputs": [],
   "source": [
    "image1 = [int(str(item).encode('ascii'), 16) for item in file[16 : 16+784]]"
   ]
  },
  {
   "cell_type": "code",
   "execution_count": 23,
   "id": "8f16c21d",
   "metadata": {
    "ExecuteTime": {
     "end_time": "2021-11-08T12:14:27.483907Z",
     "start_time": "2021-11-08T12:14:27.413690Z"
    }
   },
   "outputs": [
    {
     "name": "stdout",
     "output_type": "stream",
     "text": [
      "(28, 28, 1)\n"
     ]
    }
   ],
   "source": [
    "import cv2\n",
    "import numpy as np\n",
    "\n",
    "image1_np = np.array(image1, dtype=np.uint8).reshape(28, 28, 1)\n",
    "\n",
    "print(image1_np.shape)"
   ]
  },
  {
   "cell_type": "code",
   "execution_count": 24,
   "id": "7efd42e8",
   "metadata": {
    "ExecuteTime": {
     "end_time": "2021-11-08T12:15:27.936476Z",
     "start_time": "2021-11-08T12:15:27.898665Z"
    }
   },
   "outputs": [
    {
     "data": {
      "text/plain": [
       "True"
      ]
     },
     "execution_count": 24,
     "metadata": {},
     "output_type": "execute_result"
    }
   ],
   "source": [
    "cv2.imwrite('digit.jpg', image1_np)"
   ]
  },
  {
   "cell_type": "code",
   "execution_count": 28,
   "id": "2bceeb31",
   "metadata": {
    "ExecuteTime": {
     "end_time": "2021-11-08T12:29:41.676925Z",
     "start_time": "2021-11-08T12:29:41.668944Z"
    }
   },
   "outputs": [],
   "source": [
    "# 5 构建网络模型\n",
    "\n",
    "class Digit(nn.Module):\n",
    "    def __init__(self):\n",
    "        super().__init__()\n",
    "        '''\n",
    "        1代表灰度图片的通道(输入通道)\n",
    "        10代表输出通道\n",
    "        5代表卷积核的大小\n",
    "        '''\n",
    "        self.conv1 = nn.Conv2d(1, 10, 5)\n",
    "        self.conv2 = nn.Conv2d(10, 20, 3)\n",
    "        '''\n",
    "        输入通道为 20*10*10\n",
    "        输出通道为 500\n",
    "        '''\n",
    "        self.fcl = nn.Linear(20*10*10, 500)\n",
    "        '''\n",
    "        输入通道 500层\n",
    "        输出通道 10 层，10个不同的数字\n",
    "        '''\n",
    "        self.fcl = nn.Linear(500, 10)\n",
    "        \n",
    "    def forward(self, x):\n",
    "        input_size = x.size(0) # batch_size *1*28*28\n",
    "        x = self.conv1(x) # 输入：batch_size*1*28*28，输出 batch*10*24*24\n",
    "        x = F.relu(x) # 保持shape不变，输出：batch*10*24*24\n",
    "        x = F.max_pool2d(x, 2, 2) # 输入batch*10*24*24，输出batch*10*12*12\n",
    "        \n",
    "        x = self.conv2(x) # 输入batch*10*12*12 输出 batch*20*10*10\n",
    "        x = F.relu(x) # 激活\n",
    "        \n",
    "        x = x.view(input_suze, -1) # 拉伸，-1表示自动计算维度\n",
    "        \n",
    "        x = self.fcl(x) # 输入 batch*2000 输出：batch*500\n",
    "        x = F.relu(x) # 保持 shape 不变\n",
    "        \n",
    "        x = self.fc2(x) # 输入 batch*500 输出： batch*10\n",
    "        \n",
    "        output = F.log_softmax(x, dim=1) # 计算分类后每个数字的概率值\n",
    "        \n",
    "        return output"
   ]
  },
  {
   "cell_type": "code",
   "execution_count": null,
   "id": "afbcf8f0",
   "metadata": {
    "ExecuteTime": {
     "end_time": "2021-11-08T11:46:57.772915Z",
     "start_time": "2021-11-08T11:46:57.758724Z"
    }
   },
   "outputs": [],
   "source": [
    "# 6 定义优化器\n",
    "\n"
   ]
  },
  {
   "cell_type": "code",
   "execution_count": 7,
   "id": "cba8baf6",
   "metadata": {
    "ExecuteTime": {
     "end_time": "2021-11-08T11:47:05.191063Z",
     "start_time": "2021-11-08T11:47:05.183497Z"
    }
   },
   "outputs": [],
   "source": [
    "# 7 定义训练方法"
   ]
  },
  {
   "cell_type": "code",
   "execution_count": 8,
   "id": "a70ee8ea",
   "metadata": {
    "ExecuteTime": {
     "end_time": "2021-11-08T11:47:12.142268Z",
     "start_time": "2021-11-08T11:47:12.139250Z"
    }
   },
   "outputs": [],
   "source": [
    "# 8 定义测试方法"
   ]
  },
  {
   "cell_type": "code",
   "execution_count": null,
   "id": "841981f9",
   "metadata": {},
   "outputs": [],
   "source": [
    "# 9 "
   ]
  }
 ],
 "metadata": {
  "kernelspec": {
   "display_name": "Python 3",
   "language": "python",
   "name": "python3"
  },
  "language_info": {
   "codemirror_mode": {
    "name": "ipython",
    "version": 3
   },
   "file_extension": ".py",
   "mimetype": "text/x-python",
   "name": "python",
   "nbconvert_exporter": "python",
   "pygments_lexer": "ipython3",
   "version": "3.8.8"
  },
  "toc": {
   "base_numbering": 1,
   "nav_menu": {},
   "number_sections": true,
   "sideBar": true,
   "skip_h1_title": false,
   "title_cell": "Table of Contents",
   "title_sidebar": "Contents",
   "toc_cell": false,
   "toc_position": {},
   "toc_section_display": true,
   "toc_window_display": false
  },
  "varInspector": {
   "cols": {
    "lenName": 16,
    "lenType": 16,
    "lenVar": 40
   },
   "kernels_config": {
    "python": {
     "delete_cmd_postfix": "",
     "delete_cmd_prefix": "del ",
     "library": "var_list.py",
     "varRefreshCmd": "print(var_dic_list())"
    },
    "r": {
     "delete_cmd_postfix": ") ",
     "delete_cmd_prefix": "rm(",
     "library": "var_list.r",
     "varRefreshCmd": "cat(var_dic_list()) "
    }
   },
   "types_to_exclude": [
    "module",
    "function",
    "builtin_function_or_method",
    "instance",
    "_Feature"
   ],
   "window_display": false
  }
 },
 "nbformat": 4,
 "nbformat_minor": 5
}
