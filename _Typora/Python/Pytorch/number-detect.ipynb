{
 "cells": [
  {
   "cell_type": "code",
   "execution_count": 1,
   "id": "5d44280f",
   "metadata": {
    "ExecuteTime": {
     "end_time": "2021-11-08T12:56:22.084188Z",
     "start_time": "2021-11-08T12:56:21.603087Z"
    }
   },
   "outputs": [],
   "source": [
    "# 1 加载必要的库\n",
    "\n",
    "import torch\n",
    "import torch.nn as nn\n",
    "import torch.nn.functional as F\n",
    "import torch.optim as optim\n",
    "\n",
    "from torchvision import datasets, transforms"
   ]
  },
  {
   "cell_type": "code",
   "execution_count": 2,
   "id": "9fe977a0",
   "metadata": {
    "ExecuteTime": {
     "end_time": "2021-11-08T12:56:22.099491Z",
     "start_time": "2021-11-08T12:56:22.085093Z"
    }
   },
   "outputs": [],
   "source": [
    "# 2 定义超参数\n",
    "\n",
    "'''\n",
    "电脑的性能有限，在训练的时候需要一批批的训练\n",
    "将 60000 张图片分批次地放进模型中进行训练\n",
    "BATCH_SIZE 代表每一批图片的数量\n",
    "'''\n",
    "BATCH_SIZE = 128 \n",
    "\n",
    "'''\n",
    "在训练模型的时候，是使用CPU还是GPU\n",
    "'''\n",
    "DEVICE = torch.device('cuda' if torch.cuda.is_available else 'cpu')\n",
    "\n",
    "'''\n",
    "60000 张图片训练几轮\n",
    "'''\n",
    "EPOCHS = 10"
   ]
  },
  {
   "cell_type": "code",
   "execution_count": 3,
   "id": "1cf13f67",
   "metadata": {
    "ExecuteTime": {
     "end_time": "2021-11-08T12:56:22.115529Z",
     "start_time": "2021-11-08T12:56:22.101261Z"
    }
   },
   "outputs": [],
   "source": [
    "# 3 构建pipeline，对图像做处理\n",
    "\n",
    "pipeline = transforms.Compose([\n",
    "    transforms.ToTensor(), # 将图片转换成tensor\n",
    "    transforms.Normalize((0.1307,),(0.3081,)), # 正则化防止过拟合, 参数是官网提供的\n",
    "    # 降低模型复杂度\n",
    "])"
   ]
  },
  {
   "cell_type": "code",
   "execution_count": 4,
   "id": "55cfe681",
   "metadata": {
    "ExecuteTime": {
     "end_time": "2021-11-08T12:56:22.161840Z",
     "start_time": "2021-11-08T12:56:22.117227Z"
    }
   },
   "outputs": [
    {
     "name": "stderr",
     "output_type": "stream",
     "text": [
      "V:\\Environment\\Annaconda\\lib\\site-packages\\torchvision\\datasets\\mnist.py:498: UserWarning: The given NumPy array is not writeable, and PyTorch does not support non-writeable tensors. This means you can write to the underlying (supposedly non-writeable) NumPy array using the tensor. You may want to copy the array to protect its data or make it writeable before converting it to a tensor. This type of warning will be suppressed for the rest of this program. (Triggered internally at  ..\\torch\\csrc\\utils\\tensor_numpy.cpp:180.)\n",
      "  return torch.from_numpy(parsed.astype(m[2], copy=False)).view(*s)\n"
     ]
    }
   ],
   "source": [
    "# 4 下载、加载数据\n",
    "\n",
    "from torch.utils.data import DataLoader\n",
    "\n",
    "# 下载数据集\n",
    "train_set = datasets.MNIST(\"data\", train=True, download=True, transform=pipeline) \n",
    "\n",
    "test_set = datasets.MNIST(\"data\", train=False, download=True, transform=pipeline)\n",
    "\n",
    "# 加载数据集\n",
    "train_loader = DataLoader(train_set, batch_size=BATCH_SIZE, shuffle=True)\n",
    "test_loader = DataLoader(test_set, batch_size=BATCH_SIZE, shuffle=True)\n"
   ]
  },
  {
   "cell_type": "code",
   "execution_count": 5,
   "id": "2a35182b",
   "metadata": {
    "ExecuteTime": {
     "end_time": "2021-11-08T12:56:22.192864Z",
     "start_time": "2021-11-08T12:56:22.163224Z"
    }
   },
   "outputs": [],
   "source": [
    "# 拿到图片之后是二进制的数据流，是压缩过的，我们如何才能看到实际的图片呢？\n",
    "\n",
    "# 插入代码，显示MNIST中的图片\n",
    "\n",
    "with open('./data/MNIST/raw/train-images-idx3-ubyte', \"rb\") as f:\n",
    "    file = f.read()"
   ]
  },
  {
   "cell_type": "code",
   "execution_count": 6,
   "id": "37f651e7",
   "metadata": {
    "ExecuteTime": {
     "end_time": "2021-11-08T12:56:22.208891Z",
     "start_time": "2021-11-08T12:56:22.193862Z"
    }
   },
   "outputs": [],
   "source": [
    "image1 = [int(str(item).encode('ascii'), 16) for item in file[16 : 16+784]]"
   ]
  },
  {
   "cell_type": "code",
   "execution_count": 7,
   "id": "1d813b9e",
   "metadata": {
    "ExecuteTime": {
     "end_time": "2021-11-08T12:56:22.240166Z",
     "start_time": "2021-11-08T12:56:22.209888Z"
    }
   },
   "outputs": [
    {
     "name": "stdout",
     "output_type": "stream",
     "text": [
      "(28, 28, 1)\n"
     ]
    }
   ],
   "source": [
    "import cv2\n",
    "import numpy as np\n",
    "\n",
    "image1_np = np.array(image1, dtype=np.uint8).reshape(28, 28, 1)\n",
    "\n",
    "print(image1_np.shape)"
   ]
  },
  {
   "cell_type": "code",
   "execution_count": 8,
   "id": "2cabca4a",
   "metadata": {
    "ExecuteTime": {
     "end_time": "2021-11-08T12:56:22.255977Z",
     "start_time": "2021-11-08T12:56:22.242160Z"
    }
   },
   "outputs": [
    {
     "data": {
      "text/plain": [
       "True"
      ]
     },
     "execution_count": 8,
     "metadata": {},
     "output_type": "execute_result"
    }
   ],
   "source": [
    "cv2.imwrite('digit.jpg', image1_np)"
   ]
  },
  {
   "cell_type": "code",
   "execution_count": 9,
   "id": "bd6c222f",
   "metadata": {
    "ExecuteTime": {
     "end_time": "2021-11-08T12:56:22.271937Z",
     "start_time": "2021-11-08T12:56:22.259135Z"
    }
   },
   "outputs": [],
   "source": [
    "# 5 构建网络模型\n",
    "\n",
    "class Digit(nn.Module):\n",
    "    def __init__(self):\n",
    "        super().__init__()\n",
    "        '''\n",
    "        1代表灰度图片的通道(输入通道)\n",
    "        10代表输出通道\n",
    "        5代表卷积核的大小\n",
    "        '''\n",
    "        self.conv1 = nn.Conv2d(1, 10, 5)\n",
    "        self.conv2 = nn.Conv2d(10, 20, 3)\n",
    "        '''\n",
    "        输入通道为 20*10*10\n",
    "        输出通道为 500\n",
    "        '''\n",
    "        self.fc1 = nn.Linear(20*10*10, 500)\n",
    "        '''\n",
    "        输入通道 500层\n",
    "        输出通道 10 层，10个不同的数字\n",
    "        '''\n",
    "        self.fc2 = nn.Linear(500, 10)\n",
    "        \n",
    "    def forward(self, x):\n",
    "        input_size = x.size(0) # batch_size *1*28*28\n",
    "        x = self.conv1(x) # 输入：batch_size*1*28*28，输出 batch*10*24*24\n",
    "        x = F.relu(x) # 保持shape不变，输出：batch*10*24*24\n",
    "        x = F.max_pool2d(x, 2, 2) # 输入batch*10*24*24，输出batch*10*12*12\n",
    "        \n",
    "        x = self.conv2(x) # 输入batch*10*12*12 输出 batch*20*10*10\n",
    "        x = F.relu(x) # 激活\n",
    "        \n",
    "        x = x.view(input_size, -1) # 拉伸，-1表示自动计算维度\n",
    "        \n",
    "        x = self.fc1(x) # 输入 batch*2000 输出：batch*500\n",
    "        x = F.relu(x) # 保持 shape 不变\n",
    "        \n",
    "        x = self.fc2(x) # 输入 batch*500 输出： batch*10\n",
    "        \n",
    "        output = F.log_softmax(x, dim=1) # 计算分类后每个数字的概率值\n",
    "        \n",
    "        return output"
   ]
  },
  {
   "cell_type": "code",
   "execution_count": 10,
   "id": "f4df7909",
   "metadata": {
    "ExecuteTime": {
     "end_time": "2021-11-08T12:56:24.292259Z",
     "start_time": "2021-11-08T12:56:22.273144Z"
    }
   },
   "outputs": [],
   "source": [
    "# 6 定义优化器\n",
    "\n",
    "model = Digit().to(DEVICE)\n",
    "\n",
    "optimizer = optim.Adam(model.parameters())"
   ]
  },
  {
   "cell_type": "code",
   "execution_count": 11,
   "id": "97d19142",
   "metadata": {
    "ExecuteTime": {
     "end_time": "2021-11-08T12:56:24.308261Z",
     "start_time": "2021-11-08T12:56:24.294177Z"
    }
   },
   "outputs": [],
   "source": [
    "# 7 定义训练方法\n",
    "\n",
    "def train_model(model, device, train_loader, optimizer, epoch):\n",
    "    # 模型训练\n",
    "    model.train()\n",
    "    for batch_index, [data, target] in enumerate(train_loader):\n",
    "        # 部署到devidce上去\n",
    "        data, target = data.to(device), target.to(device)\n",
    "        # 梯度初始化为 0\n",
    "        optimizer.zero_grad()\n",
    "        # 训练后的结果\n",
    "        output = model(data)\n",
    "        # 计算损失\n",
    "        loss = F.cross_entropy(output, target)\n",
    "        # 反向传播\n",
    "        loss.backward()\n",
    "        # 参数优化\n",
    "        if batch_index % 3000 == 0:\n",
    "            print('Train epoch : {} \\t Loss: {:6f}'.format(epoch, loss.item()))\n",
    "        "
   ]
  },
  {
   "cell_type": "code",
   "execution_count": 14,
   "id": "c96d51cc",
   "metadata": {
    "ExecuteTime": {
     "end_time": "2021-11-08T12:56:51.981254Z",
     "start_time": "2021-11-08T12:56:51.962451Z"
    }
   },
   "outputs": [],
   "source": [
    "# 8 定义测试方法\n",
    "\n",
    "def test_model(model, device, test_loader):\n",
    "    # 模型验证\n",
    "    model.eval()\n",
    "    # 正确率\n",
    "    correct = 0.0\n",
    "    # 测试损失\n",
    "    test_loss = 0.0\n",
    "    with torch.no_grad(): # 不计算梯度，不进行反向传播\n",
    "        for data, target in test_loader:\n",
    "            # 部署到device上\n",
    "            data, target = data.to(device), target.to(device)\n",
    "            # 测试数据\n",
    "            output = model(data)\n",
    "            # 计算测试损失\n",
    "            test_loss += F.cross_entropy(output, target).item()\n",
    "            # 找到概率值最大的下标\n",
    "            pred = output.max(1, keepdim=True)[1]\n",
    "            # 累计正确率\n",
    "            correct += pred.eq(target.view_as(pred)).sum().item()\n",
    "        test_loss /= len(test_loader.dataset)\n",
    "        print(\"Test —— Average loss : {:.4f}, Accuracy: {:.3f}\\n\".format(test_loss, 100.0*correct/len(test_loader.dataset)))\n",
    "        "
   ]
  },
  {
   "cell_type": "code",
   "execution_count": 15,
   "id": "4416355c",
   "metadata": {
    "ExecuteTime": {
     "end_time": "2021-11-08T12:58:29.983523Z",
     "start_time": "2021-11-08T12:56:52.716672Z"
    }
   },
   "outputs": [
    {
     "name": "stdout",
     "output_type": "stream",
     "text": [
      "Train epoch : 1 \t Loss: 2.314903\n",
      "Test —— Average loss : 0.0182, Accuracy: 5.300\n",
      "\n",
      "Train epoch : 2 \t Loss: 2.302280\n",
      "Test —— Average loss : 0.0182, Accuracy: 5.300\n",
      "\n",
      "Train epoch : 3 \t Loss: 2.311625\n",
      "Test —— Average loss : 0.0182, Accuracy: 5.300\n",
      "\n",
      "Train epoch : 4 \t Loss: 2.301925\n",
      "Test —— Average loss : 0.0182, Accuracy: 5.300\n",
      "\n",
      "Train epoch : 5 \t Loss: 2.306779\n",
      "Test —— Average loss : 0.0182, Accuracy: 5.300\n",
      "\n",
      "Train epoch : 6 \t Loss: 2.301175\n",
      "Test —— Average loss : 0.0182, Accuracy: 5.300\n",
      "\n",
      "Train epoch : 7 \t Loss: 2.293839\n",
      "Test —— Average loss : 0.0182, Accuracy: 5.300\n",
      "\n",
      "Train epoch : 8 \t Loss: 2.300429\n",
      "Test —— Average loss : 0.0182, Accuracy: 5.300\n",
      "\n",
      "Train epoch : 9 \t Loss: 2.303289\n",
      "Test —— Average loss : 0.0182, Accuracy: 5.300\n",
      "\n",
      "Train epoch : 10 \t Loss: 2.297224\n",
      "Test —— Average loss : 0.0182, Accuracy: 5.300\n",
      "\n"
     ]
    }
   ],
   "source": [
    "# 9 调用 7 8\n",
    "for epoch in range(1, EPOCHS + 1):\n",
    "    train_model(model, DEVICE, train_loader, optimizer, epoch)\n",
    "    test_model(model, DEVICE, test_loader)"
   ]
  },
  {
   "cell_type": "code",
   "execution_count": null,
   "id": "c185ae79",
   "metadata": {},
   "outputs": [],
   "source": []
  }
 ],
 "metadata": {
  "kernelspec": {
   "display_name": "Python 3",
   "language": "python",
   "name": "python3"
  },
  "language_info": {
   "codemirror_mode": {
    "name": "ipython",
    "version": 3
   },
   "file_extension": ".py",
   "mimetype": "text/x-python",
   "name": "python",
   "nbconvert_exporter": "python",
   "pygments_lexer": "ipython3",
   "version": "3.8.8"
  },
  "toc": {
   "base_numbering": 1,
   "nav_menu": {},
   "number_sections": true,
   "sideBar": true,
   "skip_h1_title": false,
   "title_cell": "Table of Contents",
   "title_sidebar": "Contents",
   "toc_cell": false,
   "toc_position": {},
   "toc_section_display": true,
   "toc_window_display": false
  },
  "varInspector": {
   "cols": {
    "lenName": 16,
    "lenType": 16,
    "lenVar": 40
   },
   "kernels_config": {
    "python": {
     "delete_cmd_postfix": "",
     "delete_cmd_prefix": "del ",
     "library": "var_list.py",
     "varRefreshCmd": "print(var_dic_list())"
    },
    "r": {
     "delete_cmd_postfix": ") ",
     "delete_cmd_prefix": "rm(",
     "library": "var_list.r",
     "varRefreshCmd": "cat(var_dic_list()) "
    }
   },
   "types_to_exclude": [
    "module",
    "function",
    "builtin_function_or_method",
    "instance",
    "_Feature"
   ],
   "window_display": false
  }
 },
 "nbformat": 4,
 "nbformat_minor": 5
}
